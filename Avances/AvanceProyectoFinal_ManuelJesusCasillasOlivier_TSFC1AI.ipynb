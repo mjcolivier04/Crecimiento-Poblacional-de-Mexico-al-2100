{
  "nbformat": 4,
  "nbformat_minor": 0,
  "metadata": {
    "colab": {
      "provenance": []
    },
    "kernelspec": {
      "name": "python3",
      "display_name": "Python 3"
    },
    "language_info": {
      "name": "python"
    }
  },
  "cells": [
    {
      "cell_type": "markdown",
      "source": [
        "<center>\n",
        "\n",
        "# Avance proyecto final: **Crecimiento Poblacional en México (2022-2100)**\n",
        "\n",
        "## **Manuel Jesús Casillas Olivier**\n",
        "\n",
        "### **Temas Selectos de Física Computacional I: Inteligencia Artificial en la Física**\n",
        "\n",
        "</center>\n",
        "\n",
        "---\n",
        "\n",
        "\n",
        "\n",
        "\n"
      ],
      "metadata": {
        "id": "2X070fzypxGS"
      }
    },
    {
      "cell_type": "markdown",
      "source": [
        "\n",
        "**Breve introducción:**\n",
        "\n",
        "> El 15 de noviembre del 2022 la población mundial alcanzó el número de 8 mil millones de personas. Nuevamente surge el debate de si la cantidad de personas habitando la tierra es \"considerablemente\" relevante para el aceleramiento del cambio climático, aumento en la contaminación del aire, tierra y agua, la extinción de especies producto del desplazamiento de sus hábitats por el incremento de las actividades humanas, la lucha por el espacio, etc. Sin duda la sobrepoblación es un problema, pero tendría que discutirse si tiene más que ver más con factores políticos y económicos que con un problema númerico en sí.\n",
        "\n",
        "Según las cifras de [Expansión](https://datosmacro.expansion.com/paises/mexico#:~:text=M%C3%A9xico,%20con%20una%20poblaci%C3%B3n%20de,66%20habitantes%20por%20Km2.), en 2022 la población de México alcanzó la cifra de 130,262,220 personas.\n",
        "\n",
        "\n",
        "\n",
        "\n"
      ],
      "metadata": {
        "id": "FemA62yLsNr9"
      }
    },
    {
      "cell_type": "markdown",
      "source": [
        "<center>\n",
        "\n",
        "## **1. Problema a resolver:**\n",
        "\n",
        "</center>\n"
      ],
      "metadata": {
        "id": "PLXEyXaOvK_m"
      }
    },
    {
      "cell_type": "markdown",
      "source": [
        "Se realizará un modelo que predecirá la evolución en el incremento de la población en México hasta 2100. Se puede caracterizar al crecimiento de la población con los siguientes rasgos e inputs:\n",
        "\n",
        "*   Año  ( $t$ )\n",
        "*   Población de acuerdo al año ( $P(t)$ )\n",
        "*   Incremento porcentual de la población ( $ΔP$ )\n",
        "*   Tasa de natalidad ( $ΔN$ )\n",
        "*   Tasa de mortalidad ( $∇M$ )\n",
        "\n",
        "La variable más importante en este problema es el tiempo en años dado que el resto de rasgos son directamente dependientes de éste. La población de acuerdo a cada año así como el incremento porcentual de la población, la tasa de natalidad y la tasa de mortalidad son los rasgos que servirán al modelo de aprendizaje predecir la problación en futuros años. El cual sería el output de interés para la solución del problema y el objetivo fundamental de este proyecto. Además, nótese que:\n",
        "\n",
        "<center>\n",
        "\n",
        "$ΔP(t_i) = \\frac{P(t_{i+1}) - P(t_i)}{P(t_i)}$\n",
        "\n",
        "</center>\n",
        "\n",
        "Los anteriores rasgos e inputs son obtenidos del sitio web del [Banco Mundial](https://datos.bancomundial.org/indicador/sp.pop.grow?locations=MX) y fueron descargados en formato .csv para un mejor manejo con la paquetería pandas de python. Dicho archivo se encuentra adjunto a este notebook, en caso de que se deseé ser consultado.\n",
        "\n",
        "\n",
        "---\n",
        "\n"
      ],
      "metadata": {
        "id": "koSw33Njw_DS"
      }
    },
    {
      "cell_type": "code",
      "source": [
        "\n",
        "import tensorflow as tf\n",
        "from tensorflow import keras\n",
        "from tensorflow.keras.models import Sequential\n",
        "from tensorflow.keras.layers import Input, Dense, Flatten\n",
        "from tensorflow.keras.layers import Activation\n",
        "from tensorflow.keras.optimizers import SGD, Adam\n",
        "from tensorflow.keras.models import Model\n",
        "from tensorflow.keras.utils import plot_model\n",
        "from tensorflow.keras import initializers\n",
        "\n",
        "import numpy as np\n",
        "import pandas as pd\n",
        "import matplotlib.pyplot as plt\n",
        "import networkx as nx\n",
        "import time\n",
        "\n",
        "np.random.seed(4)\n"
      ],
      "metadata": {
        "id": "_e5KT9-pxtEa"
      },
      "execution_count": 1,
      "outputs": []
    },
    {
      "cell_type": "code",
      "source": [
        "\n",
        "# 2. Análisis de datos\n",
        "\n",
        "\"\"\"\n",
        "Cabe destacar que los rasgos Inc (incremento), TN (tasa de natalidad) y TM (tasa de mortalidad) se encuentran en porcentaje %,\n",
        "así como Pob (población en el respectivo año) se encuentra en millones de habitantes, se eliminó el fromato de tabla de cada rasgo\n",
        "para evitar complicaciones con el análisis de datos al convertir el archivo .csv a data frame de pandas\n",
        "\"\"\"\n",
        "df = pd.read_csv(\"poblacion.csv\")\n",
        "\n",
        "df.head()\n"
      ],
      "metadata": {
        "colab": {
          "base_uri": "https://localhost:8080/",
          "height": 206
        },
        "id": "q8xxyx01plWo",
        "outputId": "a8b6f8d3-7bbd-4bf5-c9d1-ca8025e65d70"
      },
      "execution_count": 24,
      "outputs": [
        {
          "output_type": "execute_result",
          "data": {
            "text/plain": [
              "    Año    Pob   Inc    TN    TM\n",
              "0  1961  38.97  3.16  44.9  11.9\n",
              "1  1962  40.20  3.15  44.7  11.6\n",
              "2  1963  41.46  3.15  44.5  11.3\n",
              "3  1964  42.77  3.16  44.4  11.1\n",
              "4  1965  44.12  3.16  44.2  10.9"
            ],
            "text/html": [
              "\n",
              "  <div id=\"df-c781dce4-9562-4a33-a017-05756faa06e1\">\n",
              "    <div class=\"colab-df-container\">\n",
              "      <div>\n",
              "<style scoped>\n",
              "    .dataframe tbody tr th:only-of-type {\n",
              "        vertical-align: middle;\n",
              "    }\n",
              "\n",
              "    .dataframe tbody tr th {\n",
              "        vertical-align: top;\n",
              "    }\n",
              "\n",
              "    .dataframe thead th {\n",
              "        text-align: right;\n",
              "    }\n",
              "</style>\n",
              "<table border=\"1\" class=\"dataframe\">\n",
              "  <thead>\n",
              "    <tr style=\"text-align: right;\">\n",
              "      <th></th>\n",
              "      <th>Año</th>\n",
              "      <th>Pob</th>\n",
              "      <th>Inc</th>\n",
              "      <th>TN</th>\n",
              "      <th>TM</th>\n",
              "    </tr>\n",
              "  </thead>\n",
              "  <tbody>\n",
              "    <tr>\n",
              "      <th>0</th>\n",
              "      <td>1961</td>\n",
              "      <td>38.97</td>\n",
              "      <td>3.16</td>\n",
              "      <td>44.9</td>\n",
              "      <td>11.9</td>\n",
              "    </tr>\n",
              "    <tr>\n",
              "      <th>1</th>\n",
              "      <td>1962</td>\n",
              "      <td>40.20</td>\n",
              "      <td>3.15</td>\n",
              "      <td>44.7</td>\n",
              "      <td>11.6</td>\n",
              "    </tr>\n",
              "    <tr>\n",
              "      <th>2</th>\n",
              "      <td>1963</td>\n",
              "      <td>41.46</td>\n",
              "      <td>3.15</td>\n",
              "      <td>44.5</td>\n",
              "      <td>11.3</td>\n",
              "    </tr>\n",
              "    <tr>\n",
              "      <th>3</th>\n",
              "      <td>1964</td>\n",
              "      <td>42.77</td>\n",
              "      <td>3.16</td>\n",
              "      <td>44.4</td>\n",
              "      <td>11.1</td>\n",
              "    </tr>\n",
              "    <tr>\n",
              "      <th>4</th>\n",
              "      <td>1965</td>\n",
              "      <td>44.12</td>\n",
              "      <td>3.16</td>\n",
              "      <td>44.2</td>\n",
              "      <td>10.9</td>\n",
              "    </tr>\n",
              "  </tbody>\n",
              "</table>\n",
              "</div>\n",
              "      <button class=\"colab-df-convert\" onclick=\"convertToInteractive('df-c781dce4-9562-4a33-a017-05756faa06e1')\"\n",
              "              title=\"Convert this dataframe to an interactive table.\"\n",
              "              style=\"display:none;\">\n",
              "        \n",
              "  <svg xmlns=\"http://www.w3.org/2000/svg\" height=\"24px\"viewBox=\"0 0 24 24\"\n",
              "       width=\"24px\">\n",
              "    <path d=\"M0 0h24v24H0V0z\" fill=\"none\"/>\n",
              "    <path d=\"M18.56 5.44l.94 2.06.94-2.06 2.06-.94-2.06-.94-.94-2.06-.94 2.06-2.06.94zm-11 1L8.5 8.5l.94-2.06 2.06-.94-2.06-.94L8.5 2.5l-.94 2.06-2.06.94zm10 10l.94 2.06.94-2.06 2.06-.94-2.06-.94-.94-2.06-.94 2.06-2.06.94z\"/><path d=\"M17.41 7.96l-1.37-1.37c-.4-.4-.92-.59-1.43-.59-.52 0-1.04.2-1.43.59L10.3 9.45l-7.72 7.72c-.78.78-.78 2.05 0 2.83L4 21.41c.39.39.9.59 1.41.59.51 0 1.02-.2 1.41-.59l7.78-7.78 2.81-2.81c.8-.78.8-2.07 0-2.86zM5.41 20L4 18.59l7.72-7.72 1.47 1.35L5.41 20z\"/>\n",
              "  </svg>\n",
              "      </button>\n",
              "      \n",
              "  <style>\n",
              "    .colab-df-container {\n",
              "      display:flex;\n",
              "      flex-wrap:wrap;\n",
              "      gap: 12px;\n",
              "    }\n",
              "\n",
              "    .colab-df-convert {\n",
              "      background-color: #E8F0FE;\n",
              "      border: none;\n",
              "      border-radius: 50%;\n",
              "      cursor: pointer;\n",
              "      display: none;\n",
              "      fill: #1967D2;\n",
              "      height: 32px;\n",
              "      padding: 0 0 0 0;\n",
              "      width: 32px;\n",
              "    }\n",
              "\n",
              "    .colab-df-convert:hover {\n",
              "      background-color: #E2EBFA;\n",
              "      box-shadow: 0px 1px 2px rgba(60, 64, 67, 0.3), 0px 1px 3px 1px rgba(60, 64, 67, 0.15);\n",
              "      fill: #174EA6;\n",
              "    }\n",
              "\n",
              "    [theme=dark] .colab-df-convert {\n",
              "      background-color: #3B4455;\n",
              "      fill: #D2E3FC;\n",
              "    }\n",
              "\n",
              "    [theme=dark] .colab-df-convert:hover {\n",
              "      background-color: #434B5C;\n",
              "      box-shadow: 0px 1px 3px 1px rgba(0, 0, 0, 0.15);\n",
              "      filter: drop-shadow(0px 1px 2px rgba(0, 0, 0, 0.3));\n",
              "      fill: #FFFFFF;\n",
              "    }\n",
              "  </style>\n",
              "\n",
              "      <script>\n",
              "        const buttonEl =\n",
              "          document.querySelector('#df-c781dce4-9562-4a33-a017-05756faa06e1 button.colab-df-convert');\n",
              "        buttonEl.style.display =\n",
              "          google.colab.kernel.accessAllowed ? 'block' : 'none';\n",
              "\n",
              "        async function convertToInteractive(key) {\n",
              "          const element = document.querySelector('#df-c781dce4-9562-4a33-a017-05756faa06e1');\n",
              "          const dataTable =\n",
              "            await google.colab.kernel.invokeFunction('convertToInteractive',\n",
              "                                                     [key], {});\n",
              "          if (!dataTable) return;\n",
              "\n",
              "          const docLinkHtml = 'Like what you see? Visit the ' +\n",
              "            '<a target=\"_blank\" href=https://colab.research.google.com/notebooks/data_table.ipynb>data table notebook</a>'\n",
              "            + ' to learn more about interactive tables.';\n",
              "          element.innerHTML = '';\n",
              "          dataTable['output_type'] = 'display_data';\n",
              "          await google.colab.output.renderOutput(dataTable, element);\n",
              "          const docLink = document.createElement('div');\n",
              "          docLink.innerHTML = docLinkHtml;\n",
              "          element.appendChild(docLink);\n",
              "        }\n",
              "      </script>\n",
              "    </div>\n",
              "  </div>\n",
              "  "
            ]
          },
          "metadata": {},
          "execution_count": 24
        }
      ]
    },
    {
      "cell_type": "code",
      "source": [
        "\n",
        "# Para el problema se podrían descartar las estadísticas generales de los primeros dos rasgos\n",
        "df.describe()\n"
      ],
      "metadata": {
        "colab": {
          "base_uri": "https://localhost:8080/",
          "height": 300
        },
        "id": "CK0DIuortuLU",
        "outputId": "8d2587ed-ff3f-413c-8e72-a063f3c3f526"
      },
      "execution_count": 25,
      "outputs": [
        {
          "output_type": "execute_result",
          "data": {
            "text/plain": [
              "               Año         Pob         Inc         TN         TM\n",
              "count    61.000000   61.000000   61.000000  60.000000  60.000000\n",
              "mean   1991.000000   84.744918    3.951475  30.028333   6.786667\n",
              "std      17.752934   27.490925   14.733089   9.329507   2.171110\n",
              "min    1961.000000   38.970000    1.030000  17.000000   4.700000\n",
              "25%    1976.000000   61.240000    1.450000  21.600000   5.175000\n",
              "50%    1991.000000   85.510000    1.910000  28.500000   5.900000\n",
              "75%    2006.000000  107.560000    2.830000  38.825000   8.075000\n",
              "max    2021.000000  130.260000  117.000000  44.900000  11.900000"
            ],
            "text/html": [
              "\n",
              "  <div id=\"df-735dcbc3-f614-49fd-9cae-3d5a4a6e4c5e\">\n",
              "    <div class=\"colab-df-container\">\n",
              "      <div>\n",
              "<style scoped>\n",
              "    .dataframe tbody tr th:only-of-type {\n",
              "        vertical-align: middle;\n",
              "    }\n",
              "\n",
              "    .dataframe tbody tr th {\n",
              "        vertical-align: top;\n",
              "    }\n",
              "\n",
              "    .dataframe thead th {\n",
              "        text-align: right;\n",
              "    }\n",
              "</style>\n",
              "<table border=\"1\" class=\"dataframe\">\n",
              "  <thead>\n",
              "    <tr style=\"text-align: right;\">\n",
              "      <th></th>\n",
              "      <th>Año</th>\n",
              "      <th>Pob</th>\n",
              "      <th>Inc</th>\n",
              "      <th>TN</th>\n",
              "      <th>TM</th>\n",
              "    </tr>\n",
              "  </thead>\n",
              "  <tbody>\n",
              "    <tr>\n",
              "      <th>count</th>\n",
              "      <td>61.000000</td>\n",
              "      <td>61.000000</td>\n",
              "      <td>61.000000</td>\n",
              "      <td>60.000000</td>\n",
              "      <td>60.000000</td>\n",
              "    </tr>\n",
              "    <tr>\n",
              "      <th>mean</th>\n",
              "      <td>1991.000000</td>\n",
              "      <td>84.744918</td>\n",
              "      <td>3.951475</td>\n",
              "      <td>30.028333</td>\n",
              "      <td>6.786667</td>\n",
              "    </tr>\n",
              "    <tr>\n",
              "      <th>std</th>\n",
              "      <td>17.752934</td>\n",
              "      <td>27.490925</td>\n",
              "      <td>14.733089</td>\n",
              "      <td>9.329507</td>\n",
              "      <td>2.171110</td>\n",
              "    </tr>\n",
              "    <tr>\n",
              "      <th>min</th>\n",
              "      <td>1961.000000</td>\n",
              "      <td>38.970000</td>\n",
              "      <td>1.030000</td>\n",
              "      <td>17.000000</td>\n",
              "      <td>4.700000</td>\n",
              "    </tr>\n",
              "    <tr>\n",
              "      <th>25%</th>\n",
              "      <td>1976.000000</td>\n",
              "      <td>61.240000</td>\n",
              "      <td>1.450000</td>\n",
              "      <td>21.600000</td>\n",
              "      <td>5.175000</td>\n",
              "    </tr>\n",
              "    <tr>\n",
              "      <th>50%</th>\n",
              "      <td>1991.000000</td>\n",
              "      <td>85.510000</td>\n",
              "      <td>1.910000</td>\n",
              "      <td>28.500000</td>\n",
              "      <td>5.900000</td>\n",
              "    </tr>\n",
              "    <tr>\n",
              "      <th>75%</th>\n",
              "      <td>2006.000000</td>\n",
              "      <td>107.560000</td>\n",
              "      <td>2.830000</td>\n",
              "      <td>38.825000</td>\n",
              "      <td>8.075000</td>\n",
              "    </tr>\n",
              "    <tr>\n",
              "      <th>max</th>\n",
              "      <td>2021.000000</td>\n",
              "      <td>130.260000</td>\n",
              "      <td>117.000000</td>\n",
              "      <td>44.900000</td>\n",
              "      <td>11.900000</td>\n",
              "    </tr>\n",
              "  </tbody>\n",
              "</table>\n",
              "</div>\n",
              "      <button class=\"colab-df-convert\" onclick=\"convertToInteractive('df-735dcbc3-f614-49fd-9cae-3d5a4a6e4c5e')\"\n",
              "              title=\"Convert this dataframe to an interactive table.\"\n",
              "              style=\"display:none;\">\n",
              "        \n",
              "  <svg xmlns=\"http://www.w3.org/2000/svg\" height=\"24px\"viewBox=\"0 0 24 24\"\n",
              "       width=\"24px\">\n",
              "    <path d=\"M0 0h24v24H0V0z\" fill=\"none\"/>\n",
              "    <path d=\"M18.56 5.44l.94 2.06.94-2.06 2.06-.94-2.06-.94-.94-2.06-.94 2.06-2.06.94zm-11 1L8.5 8.5l.94-2.06 2.06-.94-2.06-.94L8.5 2.5l-.94 2.06-2.06.94zm10 10l.94 2.06.94-2.06 2.06-.94-2.06-.94-.94-2.06-.94 2.06-2.06.94z\"/><path d=\"M17.41 7.96l-1.37-1.37c-.4-.4-.92-.59-1.43-.59-.52 0-1.04.2-1.43.59L10.3 9.45l-7.72 7.72c-.78.78-.78 2.05 0 2.83L4 21.41c.39.39.9.59 1.41.59.51 0 1.02-.2 1.41-.59l7.78-7.78 2.81-2.81c.8-.78.8-2.07 0-2.86zM5.41 20L4 18.59l7.72-7.72 1.47 1.35L5.41 20z\"/>\n",
              "  </svg>\n",
              "      </button>\n",
              "      \n",
              "  <style>\n",
              "    .colab-df-container {\n",
              "      display:flex;\n",
              "      flex-wrap:wrap;\n",
              "      gap: 12px;\n",
              "    }\n",
              "\n",
              "    .colab-df-convert {\n",
              "      background-color: #E8F0FE;\n",
              "      border: none;\n",
              "      border-radius: 50%;\n",
              "      cursor: pointer;\n",
              "      display: none;\n",
              "      fill: #1967D2;\n",
              "      height: 32px;\n",
              "      padding: 0 0 0 0;\n",
              "      width: 32px;\n",
              "    }\n",
              "\n",
              "    .colab-df-convert:hover {\n",
              "      background-color: #E2EBFA;\n",
              "      box-shadow: 0px 1px 2px rgba(60, 64, 67, 0.3), 0px 1px 3px 1px rgba(60, 64, 67, 0.15);\n",
              "      fill: #174EA6;\n",
              "    }\n",
              "\n",
              "    [theme=dark] .colab-df-convert {\n",
              "      background-color: #3B4455;\n",
              "      fill: #D2E3FC;\n",
              "    }\n",
              "\n",
              "    [theme=dark] .colab-df-convert:hover {\n",
              "      background-color: #434B5C;\n",
              "      box-shadow: 0px 1px 3px 1px rgba(0, 0, 0, 0.15);\n",
              "      filter: drop-shadow(0px 1px 2px rgba(0, 0, 0, 0.3));\n",
              "      fill: #FFFFFF;\n",
              "    }\n",
              "  </style>\n",
              "\n",
              "      <script>\n",
              "        const buttonEl =\n",
              "          document.querySelector('#df-735dcbc3-f614-49fd-9cae-3d5a4a6e4c5e button.colab-df-convert');\n",
              "        buttonEl.style.display =\n",
              "          google.colab.kernel.accessAllowed ? 'block' : 'none';\n",
              "\n",
              "        async function convertToInteractive(key) {\n",
              "          const element = document.querySelector('#df-735dcbc3-f614-49fd-9cae-3d5a4a6e4c5e');\n",
              "          const dataTable =\n",
              "            await google.colab.kernel.invokeFunction('convertToInteractive',\n",
              "                                                     [key], {});\n",
              "          if (!dataTable) return;\n",
              "\n",
              "          const docLinkHtml = 'Like what you see? Visit the ' +\n",
              "            '<a target=\"_blank\" href=https://colab.research.google.com/notebooks/data_table.ipynb>data table notebook</a>'\n",
              "            + ' to learn more about interactive tables.';\n",
              "          element.innerHTML = '';\n",
              "          dataTable['output_type'] = 'display_data';\n",
              "          await google.colab.output.renderOutput(dataTable, element);\n",
              "          const docLink = document.createElement('div');\n",
              "          docLink.innerHTML = docLinkHtml;\n",
              "          element.appendChild(docLink);\n",
              "        }\n",
              "      </script>\n",
              "    </div>\n",
              "  </div>\n",
              "  "
            ]
          },
          "metadata": {},
          "execution_count": 25
        }
      ]
    },
    {
      "cell_type": "code",
      "execution_count": 28,
      "metadata": {
        "colab": {
          "base_uri": "https://localhost:8080/",
          "height": 283
        },
        "id": "PA7h7ziCyc9l",
        "outputId": "9e23c2f9-4f40-4e52-8cab-dc18662539b3"
      },
      "outputs": [
        {
          "output_type": "execute_result",
          "data": {
            "text/plain": [
              "Text(0.5, 0, 'Tasa de mortalidad')"
            ]
          },
          "metadata": {},
          "execution_count": 28
        },
        {
          "output_type": "display_data",
          "data": {
            "text/plain": [
              "<Figure size 1440x576 with 3 Axes>"
            ],
            "image/png": "[encoded data removed]"
          },
          "metadata": {
            "needs_background": "light"
          }
        }
      ],
      "source": [
        "\n",
        "\"\"\"\n",
        "Con los métodos de matplotlib se grafican los histogramas mediante el método .hist(), quizás sea mejor graficar los datos directamente\n",
        "respecto al tiempo en vez de realizar los histogramas\n",
        "\"\"\"\n",
        "plt.figure(figsize = (20,8)) \n",
        "\n",
        "ax1 = plt.subplot(2,4,1)\n",
        "ax2 = plt.subplot(2,4,2)\n",
        "ax3 = plt.subplot(2,4,3)\n",
        "\n",
        "ax1.hist(df.Inc, bins = 30, color = 'blue', edgecolor = 'black', alpha = 0.5)\n",
        "ax1.set_xlabel('Incremento en la población', size = 15)\n",
        "ax1.set_ylabel('Frecuencia', size = 15)\n",
        "\n",
        "ax2.hist(df.TN, bins = 30, color = 'red', edgecolor='black', alpha = 0.5)\n",
        "ax2.set_xlabel('Tasa de natalidad', size = 15)\n",
        "\n",
        "ax3.hist(df.TM, bins = 30, color = 'orange', edgecolor = 'black', alpha = 0.5)\n",
        "ax3.set_xlabel('Tasa de mortalidad', size = 15)\n"
      ]
    },
    {
      "cell_type": "code",
      "source": [
        "\"\"\"\n",
        "Se reordena aleatoriamente el data frame, para evitar correlaciones posibles entre los datos y mejorar el entrenamiento (tal vez esto no sea\n",
        "necesario)\n",
        "\"\"\"\n",
        "df = df.sample(frac = 1) \n"
      ],
      "metadata": {
        "id": "PB9rdxGS_cYj"
      },
      "execution_count": 30,
      "outputs": []
    },
    {
      "cell_type": "code",
      "source": [
        "\n",
        "# 3. Separación de los datos \n",
        "\n",
        "# Para el conjunto de pruebas, tomando un 10%\n",
        "test_ratio = 0.1   \n",
        "\n",
        "# Para el conjunto de entrenamiento, se toma el 90% de la dimensión total de los registros usando .values, len() e int()\n",
        "train_ratio = int((1.0 - test_ratio) * len(df.values[:,:]))   \n",
        "\n",
        "# Se usa el método .iloc de pandas para seleccionar los registros por renglon y columna\n",
        "df_train = df.iloc[0:train_ratio,:]\n",
        "df_test  = df.iloc[train_ratio:,:]\n",
        "\n",
        "# Con .shape de pandas se muestran las dimensiones de los conjuntos anteriores\n",
        "print(\"Las dimensiones del conjunto de entrenamiento son:\", df_train.shape)\n",
        "print(\"Las dimensiones del conjunto de pruebas son:\", df_test.shape)\n"
      ],
      "metadata": {
        "colab": {
          "base_uri": "https://localhost:8080/"
        },
        "id": "pnZBW_S1AVpC",
        "outputId": "66ef63e0-45cf-4d7f-cf75-4342a652530f"
      },
      "execution_count": 31,
      "outputs": [
        {
          "output_type": "stream",
          "name": "stdout",
          "text": [
            "Las dimensiones del conjunto de entrenamiento son: (54, 5)\n",
            "Las dimensiones del conjunto de pruebas son: (7, 5)\n"
          ]
        }
      ]
    },
    {
      "cell_type": "markdown",
      "source": [
        "Al ser un incremento no lineal tal vez, no sea necesario normalizar, usando que:\n",
        "\n",
        "$$x_{i,norm} = \\dfrac{x_{i}-\\mu}{\\sigma}$$\n",
        "    \n",
        "$$y_{i,norm} = \\dfrac{y_{i}-\\mu}{\\sigma}$$"
      ],
      "metadata": {
        "id": "vCNt6MCnCXa2"
      }
    },
    {
      "cell_type": "code",
      "source": [
        "\n",
        "\"\"\"\n",
        "Usando las expresiones anteriores, con los métodos .mean() y std() de pandas se obtienen el promedio y la desviación\n",
        "estándar del conjunto de entrenamiento respectivamente\n",
        "\"\"\"\n",
        "df_train_norm = (df_train - df_train.mean()) / df_train.std()\n",
        "\n",
        "# Normalizando el conjunto de pruebas con el promedio y desviación del conjunto de entrenamiento\n",
        "df_test_norm = (df_test - df_train.mean()) / df_train.std()\n"
      ],
      "metadata": {
        "id": "_0nvwcfvCgzD"
      },
      "execution_count": 32,
      "outputs": []
    },
    {
      "cell_type": "code",
      "source": [
        "\n",
        "#El método .values extraen por medio de las variables X y Y las columnas del Data frame convierténdose en arreglos numpy\n",
        "train_x = df_train_norm.values[:,:-1]\n",
        "train_y = df_train_norm.values[:,-1:]\n",
        "\n",
        "test_x = df_test_norm.values[:,:-1]\n",
        "test_y = df_test_norm.values[:,-1:]\n"
      ],
      "metadata": {
        "id": "mk0DrQBLCm9c"
      },
      "execution_count": 33,
      "outputs": []
    },
    {
      "cell_type": "code",
      "source": [
        "\n",
        "# Se transponen con .T los conjuntos para que sean óptimos en la aplicación para la red neuronal\n",
        "x_train = train_x.T\n",
        "x_test = test_x.T\n",
        "\n",
        "y_train = train_y.T\n",
        "y_test = test_y.T\n"
      ],
      "metadata": {
        "id": "gQ-1IK4CC1c_"
      },
      "execution_count": 34,
      "outputs": []
    },
    {
      "cell_type": "code",
      "source": [
        "\n",
        "# 4\n",
        "\n",
        "import networkx as nx\n",
        "\n",
        "class Network(object):\n",
        "    \n",
        "    def  __init__ (self,sizes):\n",
        "        self.num_layers = len(sizes)\n",
        "        print(\"It has\", self.num_layers, \"layers,\")\n",
        "        self.sizes = sizes\n",
        "        print(\"with the following number of nodes per layer\",self.sizes)\n",
        "        self.biases = [np.random.randn(y, 1) for y in sizes[1:]]\n",
        "        self.weights = [np.random.randn(y, x)\n",
        "                        for x, y in zip(sizes[:-1], sizes[1:])]\n",
        "        \n",
        "    def feedforward(self, x_of_sample):\n",
        "        \"\"\"Return the output of the network F(x_of_sample) \"\"\"        \n",
        "        for b, w in zip(self.biases, self.weights):\n",
        "            x_of_sample = sigmoid(np.dot(w, x_of_sample)+b)\n",
        "        return x_of_sample\n",
        "    \n",
        "    def graph(self,sizes):\n",
        "        a=[]\n",
        "        ps={}\n",
        "        Q = nx.Graph()\n",
        "        for i in range(len(sizes)):\n",
        "            Qi=nx.Graph()    \n",
        "            n=sizes[i]\n",
        "            nodos=np.arange(n)\n",
        "            Qi.add_nodes_from(nodos)\n",
        "            l_i=Qi.nodes\n",
        "            Q = nx.union(Q, Qi, rename = (None, 'Q%i-'%i))\n",
        "            if len(l_i)==1:\n",
        "                ps['Q%i-0'%i]=[i/(len(sizes)), 1/2]\n",
        "            else:\n",
        "                for j in range(len(l_i)+1):\n",
        "                    ps['Q%i-%i'%(i,j)]=[i/(len(sizes)),(1/(len(l_i)*len(l_i)))+(j/(len(l_i)))]\n",
        "            a.insert(i,Qi)\n",
        "        for i in range(len(a)-1):\n",
        "            for j in range(len(a[i])):\n",
        "                for k in range(len(a[i+1])):\n",
        "                    Q.add_edge('Q%i-%i' %(i,j),'Q%i-%i' %(i+1,k))\n",
        "        nx.draw(Q, pos = ps)\n",
        "                "
      ],
      "metadata": {
        "id": "EhFSyUR7C45G"
      },
      "execution_count": 35,
      "outputs": []
    },
    {
      "cell_type": "code",
      "source": [
        "\n",
        "\"\"\"\n",
        "La siguiente función genera la cantidad de neuronas por capa de la red neuronal FFF, se conviene el número de nodos de la\n",
        "capa oculta con n_h = 8\n",
        "\"\"\"\n",
        "def layer_sizes(X, Y, n_h):\n",
        "    \n",
        "    n_x = X.shape[0] \n",
        "    n_h = n_h\n",
        "    n_y = Y.shape[0]\n",
        "    \n",
        "    return (n_x, n_h, n_y)\n"
      ],
      "metadata": {
        "id": "Rc9M-YeJDObv"
      },
      "execution_count": 36,
      "outputs": []
    },
    {
      "cell_type": "code",
      "source": [
        "\n",
        "# Comprobando\n",
        "n_h = 8\n",
        "n_x, n_h, n_y = layer_sizes(x_train, y_train, n_h = n_h)\n",
        "\n",
        "print(\"No. de neuronas en la capa de entrada:\", n_x)\n",
        "print(\"No. de neuronas en la capa oculta:\", n_h)\n",
        "print(\"No. de neuronas en la capa de salida:\", n_y)\n"
      ],
      "metadata": {
        "colab": {
          "base_uri": "https://localhost:8080/"
        },
        "id": "S1phKNoyDlAx",
        "outputId": "08915587-e10e-4034-9a45-2aa7b1c4762d"
      },
      "execution_count": 37,
      "outputs": [
        {
          "output_type": "stream",
          "name": "stdout",
          "text": [
            "No. de neuronas en la capa de entrada: 4\n",
            "No. de neuronas en la capa oculta: 8\n",
            "No. de neuronas en la capa de salida: 1\n"
          ]
        }
      ]
    },
    {
      "cell_type": "code",
      "source": [
        "\n",
        "# Utilizando la clase Network se realiza el esquema de la red neuronal con las características pedidas\n",
        "layers = [n_x, n_h, n_y]\n",
        "net = Network(layers)\n",
        "net.graph(layers)\n"
      ],
      "metadata": {
        "colab": {
          "base_uri": "https://localhost:8080/",
          "height": 354
        },
        "id": "c_MXourdDx4J",
        "outputId": "fff56aa5-700e-404f-ddae-8499a67a5369"
      },
      "execution_count": 38,
      "outputs": [
        {
          "output_type": "stream",
          "name": "stdout",
          "text": [
            "It has 3 layers,\n",
            "with the following number of nodes per layer [4, 8, 1]\n"
          ]
        },
        {
          "output_type": "display_data",
          "data": {
            "text/plain": [
              "<Figure size 432x288 with 1 Axes>"
            ],
            "image/png": "[encoded data removed]"
          },
          "metadata": {}
        }
      ]
    },
    {
      "cell_type": "code",
      "source": [
        "\n",
        "# Personalmente me aseguro de tener bien instalado keras en mi entorno de anaconda navigator\n",
        "keras.__version__\n"
      ],
      "metadata": {
        "colab": {
          "base_uri": "https://localhost:8080/",
          "height": 35
        },
        "id": "jJQTh7rBD-T8",
        "outputId": "6e982bfe-bbda-452a-9d20-837a648e1317"
      },
      "execution_count": 39,
      "outputs": [
        {
          "output_type": "execute_result",
          "data": {
            "text/plain": [
              "'2.9.0'"
            ],
            "application/vnd.google.colaboratory.intrinsic+json": {
              "type": "string"
            }
          },
          "metadata": {},
          "execution_count": 39
        }
      ]
    },
    {
      "cell_type": "code",
      "source": [
        "\n",
        "def architecture(input_shape, activation):\n",
        "    \n",
        "    \"\"\"\n",
        "    Implementación del modelo secuencial (izquierda-derecha) con el método Sequential() de keras.\n",
        "    Con los métodos de keras .add se añade una capa, Dense() para conectar todos los nodos actuales con los nodos \n",
        "    anteriores específicando n_h = 8 número de nodos en el caso de nuestro modelo y usando la notación kernel_initializer\n",
        "    como los pesos iniciales en una distribución uniforme y los bias en cero\n",
        "    \"\"\"\n",
        "    model = Sequential() \n",
        "    \n",
        "    # Capa de entrada y capa oculta\n",
        "    model.add(Dense(8, kernel_initializer = 'uniform', bias_initializer = 'zeros', \n",
        "                    activation=activation, \n",
        "                    input_shape=input_shape))\n",
        "    \n",
        "    # Capa de salida\n",
        "    model.add(Dense(1, kernel_initializer = 'uniform', bias_initializer = 'zeros', \n",
        "                    activation = activation))\n",
        "    \n",
        "    return model\n",
        "\n"
      ],
      "metadata": {
        "id": "E5eGes_ZEN0b"
      },
      "execution_count": 40,
      "outputs": []
    },
    {
      "cell_type": "code",
      "source": [
        "\n",
        "# Como dimensión de entrada para nuestro problema en partícular se toma el número de rasgos (n_x = 4)\n",
        "input_shape = (4,)\n",
        "\n",
        "# Como activador se usa la notación 'tanh' para la tangente hiperbólica\n",
        "model_keras = architecture(input_shape = input_shape, activation = 'tanh')\n"
      ],
      "metadata": {
        "id": "7fHXrDPdEWeU"
      },
      "execution_count": 41,
      "outputs": []
    },
    {
      "cell_type": "code",
      "source": [
        "\n",
        "\"\"\"\n",
        "El método plot_model() de keras devuelve una imagen donde se visualizan de manera gráfica todas las capas con sus\n",
        "respectivos numero de nodos que entran y salen en la red neuronal\n",
        "\"\"\"\n",
        "plot_model(model_keras, to_file = 'model.png', show_shapes = True, rankdir = 'TB', \n",
        "      expand_nested = True, show_layer_names = True, dpi = 96)\n"
      ],
      "metadata": {
        "colab": {
          "base_uri": "https://localhost:8080/",
          "height": 312
        },
        "id": "f9uiu-VKEw-u",
        "outputId": "508f2cc8-6451-430b-83ea-1f661c54ca69"
      },
      "execution_count": 42,
      "outputs": [
        {
          "output_type": "execute_result",
          "data": {
            "image/png": "[encoded data removed]",
            "text/plain": [
              "<IPython.core.display.Image object>"
            ]
          },
          "metadata": {},
          "execution_count": 42
        }
      ]
    },
    {
      "cell_type": "code",
      "source": [
        "\n",
        "# Con el método .summary() se muestra una tabla con la información de todas las capas de la red neuronal\n",
        "model_keras.summary()\n"
      ],
      "metadata": {
        "colab": {
          "base_uri": "https://localhost:8080/"
        },
        "id": "wofvbRpYE5BT",
        "outputId": "c8b84d0e-8b7c-42bf-93c8-ffbda3f4fed8"
      },
      "execution_count": 43,
      "outputs": [
        {
          "output_type": "stream",
          "name": "stdout",
          "text": [
            "Model: \"sequential\"\n",
            "_________________________________________________________________\n",
            " Layer (type)                Output Shape              Param #   \n",
            "=================================================================\n",
            " dense (Dense)               (None, 8)                 40        \n",
            "                                                                 \n",
            " dense_1 (Dense)             (None, 1)                 9         \n",
            "                                                                 \n",
            "=================================================================\n",
            "Total params: 49\n",
            "Trainable params: 49\n",
            "Non-trainable params: 0\n",
            "_________________________________________________________________\n"
          ]
        }
      ]
    },
    {
      "cell_type": "code",
      "source": [
        "\n",
        "# Valor alpha\n",
        "lr = 0.0001\n",
        "\n",
        "# Optimizador Adam\n",
        "opt = Adam(learning_rate = lr)\n",
        "\n",
        "# Con los métodos losses.MeanSquaredError() \"apilados\" se define al costo o pérdidas con el error cuadrático medio\n",
        "loss = tf.keras.losses.MeanSquaredError()\n",
        "\n",
        "# Análogamente con la presición pero mediante el método .metrics\n",
        "acc = tf.keras.metrics.MeanSquaredError()\n",
        "\n",
        "# Con el método .compile se compila la red neuronal usando la métrica basada en los anteriores hiperparámetros\n",
        "model_keras.compile(loss = loss, \n",
        "              optimizer = opt,\n",
        "              metrics = [acc])\n",
        "\n"
      ],
      "metadata": {
        "id": "DDPher4QE_XP"
      },
      "execution_count": 44,
      "outputs": []
    },
    {
      "cell_type": "code",
      "source": [
        "\n",
        "# Número de épocas para el entrenamiento\n",
        "epochs = 150\n",
        "\n",
        "\"\"\"\n",
        "Con el método .time() de la paquetería time se genera un reloj interno que devuelve el tiempo de ejecución en que un \n",
        "código es ejecutado por la computador\n",
        "\"\"\"\n",
        "start_time = time.time()\n",
        "\n",
        "\"\"\"\n",
        "Se indica el porcentaje de muestras en float para el conjunto de validación, en este caso 10% ~ 0.1, por lo que para \n",
        "el conjunto de entrenamiento sería el 90% ~ 0.9 \n",
        "\"\"\"\n",
        "val_split = 0.1\n",
        "\n",
        "\"\"\"\n",
        "Con el método .fit se entrena al modelo model_keras, con el parámetro batch_size se especifica el número de muestras por\n",
        "lote y así que el entrenamiento sea más óptimo\n",
        "\"\"\"\n",
        "history_model = model_keras.fit(train_x, train_y,\n",
        "                          epochs = epochs,\n",
        "                          batch_size = 32,\n",
        "                          validation_split = val_split, \n",
        "                          shuffle= True,\n",
        "                          verbose = 2)\n",
        "\n",
        "end_time = time.time()\n",
        "\n",
        "print(\"Time for training: {:10.4f}s\".format(end_time - start_time))\n"
      ],
      "metadata": {
        "colab": {
          "base_uri": "https://localhost:8080/"
        },
        "id": "HbBp5ps5FNgv",
        "outputId": "0695e8a1-eb84-4e43-c345-520c86a69627"
      },
      "execution_count": 45,
      "outputs": [
        {
          "output_type": "stream",
          "name": "stdout",
          "text": [
            "Epoch 1/150\n",
            "2/2 - 1s - loss: nan - mean_squared_error: nan - val_loss: nan - val_mean_squared_error: nan - 761ms/epoch - 381ms/step\n",
            "Epoch 2/150\n",
            "2/2 - 0s - loss: nan - mean_squared_error: nan - val_loss: nan - val_mean_squared_error: nan - 28ms/epoch - 14ms/step\n",
            "Epoch 3/150\n",
            "2/2 - 0s - loss: nan - mean_squared_error: nan - val_loss: nan - val_mean_squared_error: nan - 26ms/epoch - 13ms/step\n",
            "Epoch 4/150\n",
            "2/2 - 0s - loss: nan - mean_squared_error: nan - val_loss: nan - val_mean_squared_error: nan - 24ms/epoch - 12ms/step\n",
            "Epoch 5/150\n",
            "2/2 - 0s - loss: nan - mean_squared_error: nan - val_loss: nan - val_mean_squared_error: nan - 25ms/epoch - 12ms/step\n",
            "Epoch 6/150\n",
            "2/2 - 0s - loss: nan - mean_squared_error: nan - val_loss: nan - val_mean_squared_error: nan - 26ms/epoch - 13ms/step\n",
            "Epoch 7/150\n",
            "2/2 - 0s - loss: nan - mean_squared_error: nan - val_loss: nan - val_mean_squared_error: nan - 25ms/epoch - 12ms/step\n",
            "Epoch 8/150\n",
            "2/2 - 0s - loss: nan - mean_squared_error: nan - val_loss: nan - val_mean_squared_error: nan - 48ms/epoch - 24ms/step\n",
            "Epoch 9/150\n",
            "2/2 - 0s - loss: nan - mean_squared_error: nan - val_loss: nan - val_mean_squared_error: nan - 26ms/epoch - 13ms/step\n",
            "Epoch 10/150\n",
            "2/2 - 0s - loss: nan - mean_squared_error: nan - val_loss: nan - val_mean_squared_error: nan - 33ms/epoch - 17ms/step\n",
            "Epoch 11/150\n",
            "2/2 - 0s - loss: nan - mean_squared_error: nan - val_loss: nan - val_mean_squared_error: nan - 27ms/epoch - 13ms/step\n",
            "Epoch 12/150\n",
            "2/2 - 0s - loss: nan - mean_squared_error: nan - val_loss: nan - val_mean_squared_error: nan - 28ms/epoch - 14ms/step\n",
            "Epoch 13/150\n",
            "2/2 - 0s - loss: nan - mean_squared_error: nan - val_loss: nan - val_mean_squared_error: nan - 44ms/epoch - 22ms/step\n",
            "Epoch 14/150\n",
            "2/2 - 0s - loss: nan - mean_squared_error: nan - val_loss: nan - val_mean_squared_error: nan - 27ms/epoch - 13ms/step\n",
            "Epoch 15/150\n",
            "2/2 - 0s - loss: nan - mean_squared_error: nan - val_loss: nan - val_mean_squared_error: nan - 26ms/epoch - 13ms/step\n",
            "Epoch 16/150\n",
            "2/2 - 0s - loss: nan - mean_squared_error: nan - val_loss: nan - val_mean_squared_error: nan - 29ms/epoch - 15ms/step\n",
            "Epoch 17/150\n",
            "2/2 - 0s - loss: nan - mean_squared_error: nan - val_loss: nan - val_mean_squared_error: nan - 27ms/epoch - 13ms/step\n",
            "Epoch 18/150\n",
            "2/2 - 0s - loss: nan - mean_squared_error: nan - val_loss: nan - val_mean_squared_error: nan - 28ms/epoch - 14ms/step\n",
            "Epoch 19/150\n",
            "2/2 - 0s - loss: nan - mean_squared_error: nan - val_loss: nan - val_mean_squared_error: nan - 27ms/epoch - 14ms/step\n",
            "Epoch 20/150\n",
            "2/2 - 0s - loss: nan - mean_squared_error: nan - val_loss: nan - val_mean_squared_error: nan - 30ms/epoch - 15ms/step\n",
            "Epoch 21/150\n",
            "2/2 - 0s - loss: nan - mean_squared_error: nan - val_loss: nan - val_mean_squared_error: nan - 26ms/epoch - 13ms/step\n",
            "Epoch 22/150\n",
            "2/2 - 0s - loss: nan - mean_squared_error: nan - val_loss: nan - val_mean_squared_error: nan - 26ms/epoch - 13ms/step\n",
            "Epoch 23/150\n",
            "2/2 - 0s - loss: nan - mean_squared_error: nan - val_loss: nan - val_mean_squared_error: nan - 25ms/epoch - 13ms/step\n",
            "Epoch 24/150\n",
            "2/2 - 0s - loss: nan - mean_squared_error: nan - val_loss: nan - val_mean_squared_error: nan - 30ms/epoch - 15ms/step\n",
            "Epoch 25/150\n",
            "2/2 - 0s - loss: nan - mean_squared_error: nan - val_loss: nan - val_mean_squared_error: nan - 27ms/epoch - 13ms/step\n",
            "Epoch 26/150\n",
            "2/2 - 0s - loss: nan - mean_squared_error: nan - val_loss: nan - val_mean_squared_error: nan - 26ms/epoch - 13ms/step\n",
            "Epoch 27/150\n",
            "2/2 - 0s - loss: nan - mean_squared_error: nan - val_loss: nan - val_mean_squared_error: nan - 28ms/epoch - 14ms/step\n",
            "Epoch 28/150\n",
            "2/2 - 0s - loss: nan - mean_squared_error: nan - val_loss: nan - val_mean_squared_error: nan - 28ms/epoch - 14ms/step\n",
            "Epoch 29/150\n",
            "2/2 - 0s - loss: nan - mean_squared_error: nan - val_loss: nan - val_mean_squared_error: nan - 29ms/epoch - 15ms/step\n",
            "Epoch 30/150\n",
            "2/2 - 0s - loss: nan - mean_squared_error: nan - val_loss: nan - val_mean_squared_error: nan - 29ms/epoch - 15ms/step\n",
            "Epoch 31/150\n",
            "2/2 - 0s - loss: nan - mean_squared_error: nan - val_loss: nan - val_mean_squared_error: nan - 30ms/epoch - 15ms/step\n",
            "Epoch 32/150\n",
            "2/2 - 0s - loss: nan - mean_squared_error: nan - val_loss: nan - val_mean_squared_error: nan - 30ms/epoch - 15ms/step\n",
            "Epoch 33/150\n",
            "2/2 - 0s - loss: nan - mean_squared_error: nan - val_loss: nan - val_mean_squared_error: nan - 26ms/epoch - 13ms/step\n",
            "Epoch 34/150\n",
            "2/2 - 0s - loss: nan - mean_squared_error: nan - val_loss: nan - val_mean_squared_error: nan - 28ms/epoch - 14ms/step\n",
            "Epoch 35/150\n",
            "2/2 - 0s - loss: nan - mean_squared_error: nan - val_loss: nan - val_mean_squared_error: nan - 26ms/epoch - 13ms/step\n",
            "Epoch 36/150\n",
            "2/2 - 0s - loss: nan - mean_squared_error: nan - val_loss: nan - val_mean_squared_error: nan - 35ms/epoch - 17ms/step\n",
            "Epoch 37/150\n",
            "2/2 - 0s - loss: nan - mean_squared_error: nan - val_loss: nan - val_mean_squared_error: nan - 26ms/epoch - 13ms/step\n",
            "Epoch 38/150\n",
            "2/2 - 0s - loss: nan - mean_squared_error: nan - val_loss: nan - val_mean_squared_error: nan - 28ms/epoch - 14ms/step\n",
            "Epoch 39/150\n",
            "2/2 - 0s - loss: nan - mean_squared_error: nan - val_loss: nan - val_mean_squared_error: nan - 28ms/epoch - 14ms/step\n",
            "Epoch 40/150\n",
            "2/2 - 0s - loss: nan - mean_squared_error: nan - val_loss: nan - val_mean_squared_error: nan - 29ms/epoch - 14ms/step\n",
            "Epoch 41/150\n",
            "2/2 - 0s - loss: nan - mean_squared_error: nan - val_loss: nan - val_mean_squared_error: nan - 31ms/epoch - 15ms/step\n",
            "Epoch 42/150\n",
            "2/2 - 0s - loss: nan - mean_squared_error: nan - val_loss: nan - val_mean_squared_error: nan - 27ms/epoch - 14ms/step\n",
            "Epoch 43/150\n",
            "2/2 - 0s - loss: nan - mean_squared_error: nan - val_loss: nan - val_mean_squared_error: nan - 28ms/epoch - 14ms/step\n",
            "Epoch 44/150\n",
            "2/2 - 0s - loss: nan - mean_squared_error: nan - val_loss: nan - val_mean_squared_error: nan - 24ms/epoch - 12ms/step\n",
            "Epoch 45/150\n",
            "2/2 - 0s - loss: nan - mean_squared_error: nan - val_loss: nan - val_mean_squared_error: nan - 29ms/epoch - 14ms/step\n",
            "Epoch 46/150\n",
            "2/2 - 0s - loss: nan - mean_squared_error: nan - val_loss: nan - val_mean_squared_error: nan - 27ms/epoch - 14ms/step\n",
            "Epoch 47/150\n",
            "2/2 - 0s - loss: nan - mean_squared_error: nan - val_loss: nan - val_mean_squared_error: nan - 26ms/epoch - 13ms/step\n",
            "Epoch 48/150\n",
            "2/2 - 0s - loss: nan - mean_squared_error: nan - val_loss: nan - val_mean_squared_error: nan - 29ms/epoch - 14ms/step\n",
            "Epoch 49/150\n",
            "2/2 - 0s - loss: nan - mean_squared_error: nan - val_loss: nan - val_mean_squared_error: nan - 28ms/epoch - 14ms/step\n",
            "Epoch 50/150\n",
            "2/2 - 0s - loss: nan - mean_squared_error: nan - val_loss: nan - val_mean_squared_error: nan - 28ms/epoch - 14ms/step\n",
            "Epoch 51/150\n",
            "2/2 - 0s - loss: nan - mean_squared_error: nan - val_loss: nan - val_mean_squared_error: nan - 28ms/epoch - 14ms/step\n",
            "Epoch 52/150\n",
            "2/2 - 0s - loss: nan - mean_squared_error: nan - val_loss: nan - val_mean_squared_error: nan - 25ms/epoch - 13ms/step\n",
            "Epoch 53/150\n",
            "2/2 - 0s - loss: nan - mean_squared_error: nan - val_loss: nan - val_mean_squared_error: nan - 28ms/epoch - 14ms/step\n",
            "Epoch 54/150\n",
            "2/2 - 0s - loss: nan - mean_squared_error: nan - val_loss: nan - val_mean_squared_error: nan - 25ms/epoch - 13ms/step\n",
            "Epoch 55/150\n",
            "2/2 - 0s - loss: nan - mean_squared_error: nan - val_loss: nan - val_mean_squared_error: nan - 35ms/epoch - 17ms/step\n",
            "Epoch 56/150\n",
            "2/2 - 0s - loss: nan - mean_squared_error: nan - val_loss: nan - val_mean_squared_error: nan - 26ms/epoch - 13ms/step\n",
            "Epoch 57/150\n",
            "2/2 - 0s - loss: nan - mean_squared_error: nan - val_loss: nan - val_mean_squared_error: nan - 26ms/epoch - 13ms/step\n",
            "Epoch 58/150\n",
            "2/2 - 0s - loss: nan - mean_squared_error: nan - val_loss: nan - val_mean_squared_error: nan - 26ms/epoch - 13ms/step\n",
            "Epoch 59/150\n",
            "2/2 - 0s - loss: nan - mean_squared_error: nan - val_loss: nan - val_mean_squared_error: nan - 27ms/epoch - 14ms/step\n",
            "Epoch 60/150\n",
            "2/2 - 0s - loss: nan - mean_squared_error: nan - val_loss: nan - val_mean_squared_error: nan - 27ms/epoch - 14ms/step\n",
            "Epoch 61/150\n",
            "2/2 - 0s - loss: nan - mean_squared_error: nan - val_loss: nan - val_mean_squared_error: nan - 29ms/epoch - 15ms/step\n",
            "Epoch 62/150\n",
            "2/2 - 0s - loss: nan - mean_squared_error: nan - val_loss: nan - val_mean_squared_error: nan - 27ms/epoch - 14ms/step\n",
            "Epoch 63/150\n",
            "2/2 - 0s - loss: nan - mean_squared_error: nan - val_loss: nan - val_mean_squared_error: nan - 27ms/epoch - 13ms/step\n",
            "Epoch 64/150\n",
            "2/2 - 0s - loss: nan - mean_squared_error: nan - val_loss: nan - val_mean_squared_error: nan - 28ms/epoch - 14ms/step\n",
            "Epoch 65/150\n",
            "2/2 - 0s - loss: nan - mean_squared_error: nan - val_loss: nan - val_mean_squared_error: nan - 26ms/epoch - 13ms/step\n",
            "Epoch 66/150\n",
            "2/2 - 0s - loss: nan - mean_squared_error: nan - val_loss: nan - val_mean_squared_error: nan - 28ms/epoch - 14ms/step\n",
            "Epoch 67/150\n",
            "2/2 - 0s - loss: nan - mean_squared_error: nan - val_loss: nan - val_mean_squared_error: nan - 27ms/epoch - 14ms/step\n",
            "Epoch 68/150\n",
            "2/2 - 0s - loss: nan - mean_squared_error: nan - val_loss: nan - val_mean_squared_error: nan - 25ms/epoch - 13ms/step\n",
            "Epoch 69/150\n",
            "2/2 - 0s - loss: nan - mean_squared_error: nan - val_loss: nan - val_mean_squared_error: nan - 27ms/epoch - 13ms/step\n",
            "Epoch 70/150\n",
            "2/2 - 0s - loss: nan - mean_squared_error: nan - val_loss: nan - val_mean_squared_error: nan - 27ms/epoch - 13ms/step\n",
            "Epoch 71/150\n",
            "2/2 - 0s - loss: nan - mean_squared_error: nan - val_loss: nan - val_mean_squared_error: nan - 27ms/epoch - 14ms/step\n",
            "Epoch 72/150\n",
            "2/2 - 0s - loss: nan - mean_squared_error: nan - val_loss: nan - val_mean_squared_error: nan - 34ms/epoch - 17ms/step\n",
            "Epoch 73/150\n",
            "2/2 - 0s - loss: nan - mean_squared_error: nan - val_loss: nan - val_mean_squared_error: nan - 31ms/epoch - 15ms/step\n",
            "Epoch 74/150\n",
            "2/2 - 0s - loss: nan - mean_squared_error: nan - val_loss: nan - val_mean_squared_error: nan - 25ms/epoch - 13ms/step\n",
            "Epoch 75/150\n",
            "2/2 - 0s - loss: nan - mean_squared_error: nan - val_loss: nan - val_mean_squared_error: nan - 29ms/epoch - 15ms/step\n",
            "Epoch 76/150\n",
            "2/2 - 0s - loss: nan - mean_squared_error: nan - val_loss: nan - val_mean_squared_error: nan - 26ms/epoch - 13ms/step\n",
            "Epoch 77/150\n",
            "2/2 - 0s - loss: nan - mean_squared_error: nan - val_loss: nan - val_mean_squared_error: nan - 25ms/epoch - 12ms/step\n",
            "Epoch 78/150\n",
            "2/2 - 0s - loss: nan - mean_squared_error: nan - val_loss: nan - val_mean_squared_error: nan - 27ms/epoch - 14ms/step\n",
            "Epoch 79/150\n",
            "2/2 - 0s - loss: nan - mean_squared_error: nan - val_loss: nan - val_mean_squared_error: nan - 26ms/epoch - 13ms/step\n",
            "Epoch 80/150\n",
            "2/2 - 0s - loss: nan - mean_squared_error: nan - val_loss: nan - val_mean_squared_error: nan - 30ms/epoch - 15ms/step\n",
            "Epoch 81/150\n",
            "2/2 - 0s - loss: nan - mean_squared_error: nan - val_loss: nan - val_mean_squared_error: nan - 26ms/epoch - 13ms/step\n",
            "Epoch 82/150\n",
            "2/2 - 0s - loss: nan - mean_squared_error: nan - val_loss: nan - val_mean_squared_error: nan - 27ms/epoch - 13ms/step\n",
            "Epoch 83/150\n",
            "2/2 - 0s - loss: nan - mean_squared_error: nan - val_loss: nan - val_mean_squared_error: nan - 26ms/epoch - 13ms/step\n",
            "Epoch 84/150\n",
            "2/2 - 0s - loss: nan - mean_squared_error: nan - val_loss: nan - val_mean_squared_error: nan - 27ms/epoch - 14ms/step\n",
            "Epoch 85/150\n",
            "2/2 - 0s - loss: nan - mean_squared_error: nan - val_loss: nan - val_mean_squared_error: nan - 25ms/epoch - 13ms/step\n",
            "Epoch 86/150\n",
            "2/2 - 0s - loss: nan - mean_squared_error: nan - val_loss: nan - val_mean_squared_error: nan - 26ms/epoch - 13ms/step\n",
            "Epoch 87/150\n",
            "2/2 - 0s - loss: nan - mean_squared_error: nan - val_loss: nan - val_mean_squared_error: nan - 27ms/epoch - 13ms/step\n",
            "Epoch 88/150\n",
            "2/2 - 0s - loss: nan - mean_squared_error: nan - val_loss: nan - val_mean_squared_error: nan - 26ms/epoch - 13ms/step\n",
            "Epoch 89/150\n",
            "2/2 - 0s - loss: nan - mean_squared_error: nan - val_loss: nan - val_mean_squared_error: nan - 29ms/epoch - 14ms/step\n",
            "Epoch 90/150\n",
            "2/2 - 0s - loss: nan - mean_squared_error: nan - val_loss: nan - val_mean_squared_error: nan - 26ms/epoch - 13ms/step\n",
            "Epoch 91/150\n",
            "2/2 - 0s - loss: nan - mean_squared_error: nan - val_loss: nan - val_mean_squared_error: nan - 32ms/epoch - 16ms/step\n",
            "Epoch 92/150\n",
            "2/2 - 0s - loss: nan - mean_squared_error: nan - val_loss: nan - val_mean_squared_error: nan - 30ms/epoch - 15ms/step\n",
            "Epoch 93/150\n",
            "2/2 - 0s - loss: nan - mean_squared_error: nan - val_loss: nan - val_mean_squared_error: nan - 29ms/epoch - 15ms/step\n",
            "Epoch 94/150\n",
            "2/2 - 0s - loss: nan - mean_squared_error: nan - val_loss: nan - val_mean_squared_error: nan - 26ms/epoch - 13ms/step\n",
            "Epoch 95/150\n",
            "2/2 - 0s - loss: nan - mean_squared_error: nan - val_loss: nan - val_mean_squared_error: nan - 28ms/epoch - 14ms/step\n",
            "Epoch 96/150\n",
            "2/2 - 0s - loss: nan - mean_squared_error: nan - val_loss: nan - val_mean_squared_error: nan - 25ms/epoch - 12ms/step\n",
            "Epoch 97/150\n",
            "2/2 - 0s - loss: nan - mean_squared_error: nan - val_loss: nan - val_mean_squared_error: nan - 25ms/epoch - 12ms/step\n",
            "Epoch 98/150\n",
            "2/2 - 0s - loss: nan - mean_squared_error: nan - val_loss: nan - val_mean_squared_error: nan - 25ms/epoch - 12ms/step\n",
            "Epoch 99/150\n",
            "2/2 - 0s - loss: nan - mean_squared_error: nan - val_loss: nan - val_mean_squared_error: nan - 30ms/epoch - 15ms/step\n",
            "Epoch 100/150\n",
            "2/2 - 0s - loss: nan - mean_squared_error: nan - val_loss: nan - val_mean_squared_error: nan - 27ms/epoch - 13ms/step\n",
            "Epoch 101/150\n",
            "2/2 - 0s - loss: nan - mean_squared_error: nan - val_loss: nan - val_mean_squared_error: nan - 26ms/epoch - 13ms/step\n",
            "Epoch 102/150\n",
            "2/2 - 0s - loss: nan - mean_squared_error: nan - val_loss: nan - val_mean_squared_error: nan - 26ms/epoch - 13ms/step\n",
            "Epoch 103/150\n",
            "2/2 - 0s - loss: nan - mean_squared_error: nan - val_loss: nan - val_mean_squared_error: nan - 29ms/epoch - 15ms/step\n",
            "Epoch 104/150\n",
            "2/2 - 0s - loss: nan - mean_squared_error: nan - val_loss: nan - val_mean_squared_error: nan - 34ms/epoch - 17ms/step\n",
            "Epoch 105/150\n",
            "2/2 - 0s - loss: nan - mean_squared_error: nan - val_loss: nan - val_mean_squared_error: nan - 26ms/epoch - 13ms/step\n",
            "Epoch 106/150\n",
            "2/2 - 0s - loss: nan - mean_squared_error: nan - val_loss: nan - val_mean_squared_error: nan - 26ms/epoch - 13ms/step\n",
            "Epoch 107/150\n",
            "2/2 - 0s - loss: nan - mean_squared_error: nan - val_loss: nan - val_mean_squared_error: nan - 26ms/epoch - 13ms/step\n",
            "Epoch 108/150\n",
            "2/2 - 0s - loss: nan - mean_squared_error: nan - val_loss: nan - val_mean_squared_error: nan - 29ms/epoch - 14ms/step\n",
            "Epoch 109/150\n",
            "2/2 - 0s - loss: nan - mean_squared_error: nan - val_loss: nan - val_mean_squared_error: nan - 29ms/epoch - 14ms/step\n",
            "Epoch 110/150\n",
            "2/2 - 0s - loss: nan - mean_squared_error: nan - val_loss: nan - val_mean_squared_error: nan - 28ms/epoch - 14ms/step\n",
            "Epoch 111/150\n",
            "2/2 - 0s - loss: nan - mean_squared_error: nan - val_loss: nan - val_mean_squared_error: nan - 30ms/epoch - 15ms/step\n",
            "Epoch 112/150\n",
            "2/2 - 0s - loss: nan - mean_squared_error: nan - val_loss: nan - val_mean_squared_error: nan - 25ms/epoch - 13ms/step\n",
            "Epoch 113/150\n",
            "2/2 - 0s - loss: nan - mean_squared_error: nan - val_loss: nan - val_mean_squared_error: nan - 28ms/epoch - 14ms/step\n",
            "Epoch 114/150\n",
            "2/2 - 0s - loss: nan - mean_squared_error: nan - val_loss: nan - val_mean_squared_error: nan - 27ms/epoch - 14ms/step\n",
            "Epoch 115/150\n",
            "2/2 - 0s - loss: nan - mean_squared_error: nan - val_loss: nan - val_mean_squared_error: nan - 26ms/epoch - 13ms/step\n",
            "Epoch 116/150\n",
            "2/2 - 0s - loss: nan - mean_squared_error: nan - val_loss: nan - val_mean_squared_error: nan - 33ms/epoch - 16ms/step\n",
            "Epoch 117/150\n",
            "2/2 - 0s - loss: nan - mean_squared_error: nan - val_loss: nan - val_mean_squared_error: nan - 28ms/epoch - 14ms/step\n",
            "Epoch 118/150\n",
            "2/2 - 0s - loss: nan - mean_squared_error: nan - val_loss: nan - val_mean_squared_error: nan - 46ms/epoch - 23ms/step\n",
            "Epoch 119/150\n",
            "2/2 - 0s - loss: nan - mean_squared_error: nan - val_loss: nan - val_mean_squared_error: nan - 27ms/epoch - 14ms/step\n",
            "Epoch 120/150\n",
            "2/2 - 0s - loss: nan - mean_squared_error: nan - val_loss: nan - val_mean_squared_error: nan - 26ms/epoch - 13ms/step\n",
            "Epoch 121/150\n",
            "2/2 - 0s - loss: nan - mean_squared_error: nan - val_loss: nan - val_mean_squared_error: nan - 26ms/epoch - 13ms/step\n",
            "Epoch 122/150\n",
            "2/2 - 0s - loss: nan - mean_squared_error: nan - val_loss: nan - val_mean_squared_error: nan - 26ms/epoch - 13ms/step\n",
            "Epoch 123/150\n",
            "2/2 - 0s - loss: nan - mean_squared_error: nan - val_loss: nan - val_mean_squared_error: nan - 26ms/epoch - 13ms/step\n",
            "Epoch 124/150\n",
            "2/2 - 0s - loss: nan - mean_squared_error: nan - val_loss: nan - val_mean_squared_error: nan - 24ms/epoch - 12ms/step\n",
            "Epoch 125/150\n",
            "2/2 - 0s - loss: nan - mean_squared_error: nan - val_loss: nan - val_mean_squared_error: nan - 28ms/epoch - 14ms/step\n",
            "Epoch 126/150\n",
            "2/2 - 0s - loss: nan - mean_squared_error: nan - val_loss: nan - val_mean_squared_error: nan - 46ms/epoch - 23ms/step\n",
            "Epoch 127/150\n",
            "2/2 - 0s - loss: nan - mean_squared_error: nan - val_loss: nan - val_mean_squared_error: nan - 28ms/epoch - 14ms/step\n",
            "Epoch 128/150\n",
            "2/2 - 0s - loss: nan - mean_squared_error: nan - val_loss: nan - val_mean_squared_error: nan - 26ms/epoch - 13ms/step\n",
            "Epoch 129/150\n",
            "2/2 - 0s - loss: nan - mean_squared_error: nan - val_loss: nan - val_mean_squared_error: nan - 29ms/epoch - 15ms/step\n",
            "Epoch 130/150\n",
            "2/2 - 0s - loss: nan - mean_squared_error: nan - val_loss: nan - val_mean_squared_error: nan - 26ms/epoch - 13ms/step\n",
            "Epoch 131/150\n",
            "2/2 - 0s - loss: nan - mean_squared_error: nan - val_loss: nan - val_mean_squared_error: nan - 27ms/epoch - 13ms/step\n",
            "Epoch 132/150\n",
            "2/2 - 0s - loss: nan - mean_squared_error: nan - val_loss: nan - val_mean_squared_error: nan - 26ms/epoch - 13ms/step\n",
            "Epoch 133/150\n",
            "2/2 - 0s - loss: nan - mean_squared_error: nan - val_loss: nan - val_mean_squared_error: nan - 26ms/epoch - 13ms/step\n",
            "Epoch 134/150\n",
            "2/2 - 0s - loss: nan - mean_squared_error: nan - val_loss: nan - val_mean_squared_error: nan - 33ms/epoch - 16ms/step\n",
            "Epoch 135/150\n",
            "2/2 - 0s - loss: nan - mean_squared_error: nan - val_loss: nan - val_mean_squared_error: nan - 26ms/epoch - 13ms/step\n",
            "Epoch 136/150\n",
            "2/2 - 0s - loss: nan - mean_squared_error: nan - val_loss: nan - val_mean_squared_error: nan - 30ms/epoch - 15ms/step\n",
            "Epoch 137/150\n",
            "2/2 - 0s - loss: nan - mean_squared_error: nan - val_loss: nan - val_mean_squared_error: nan - 26ms/epoch - 13ms/step\n",
            "Epoch 138/150\n",
            "2/2 - 0s - loss: nan - mean_squared_error: nan - val_loss: nan - val_mean_squared_error: nan - 35ms/epoch - 18ms/step\n",
            "Epoch 139/150\n",
            "2/2 - 0s - loss: nan - mean_squared_error: nan - val_loss: nan - val_mean_squared_error: nan - 30ms/epoch - 15ms/step\n",
            "Epoch 140/150\n",
            "2/2 - 0s - loss: nan - mean_squared_error: nan - val_loss: nan - val_mean_squared_error: nan - 28ms/epoch - 14ms/step\n",
            "Epoch 141/150\n",
            "2/2 - 0s - loss: nan - mean_squared_error: nan - val_loss: nan - val_mean_squared_error: nan - 28ms/epoch - 14ms/step\n",
            "Epoch 142/150\n",
            "2/2 - 0s - loss: nan - mean_squared_error: nan - val_loss: nan - val_mean_squared_error: nan - 32ms/epoch - 16ms/step\n",
            "Epoch 143/150\n",
            "2/2 - 0s - loss: nan - mean_squared_error: nan - val_loss: nan - val_mean_squared_error: nan - 27ms/epoch - 14ms/step\n",
            "Epoch 144/150\n",
            "2/2 - 0s - loss: nan - mean_squared_error: nan - val_loss: nan - val_mean_squared_error: nan - 27ms/epoch - 14ms/step\n",
            "Epoch 145/150\n",
            "2/2 - 0s - loss: nan - mean_squared_error: nan - val_loss: nan - val_mean_squared_error: nan - 29ms/epoch - 15ms/step\n",
            "Epoch 146/150\n",
            "2/2 - 0s - loss: nan - mean_squared_error: nan - val_loss: nan - val_mean_squared_error: nan - 29ms/epoch - 14ms/step\n",
            "Epoch 147/150\n",
            "2/2 - 0s - loss: nan - mean_squared_error: nan - val_loss: nan - val_mean_squared_error: nan - 28ms/epoch - 14ms/step\n",
            "Epoch 148/150\n",
            "2/2 - 0s - loss: nan - mean_squared_error: nan - val_loss: nan - val_mean_squared_error: nan - 25ms/epoch - 13ms/step\n",
            "Epoch 149/150\n",
            "2/2 - 0s - loss: nan - mean_squared_error: nan - val_loss: nan - val_mean_squared_error: nan - 29ms/epoch - 14ms/step\n",
            "Epoch 150/150\n",
            "2/2 - 0s - loss: nan - mean_squared_error: nan - val_loss: nan - val_mean_squared_error: nan - 25ms/epoch - 12ms/step\n",
            "Time for training:     6.2687s\n"
          ]
        }
      ]
    },
    {
      "cell_type": "code",
      "source": [
        "\n",
        "plt.plot(history_model.history['loss'], 'red')\n",
        "plt.plot(history_model.history['val_loss'], 'blue')\n",
        "plt.ylabel('Costos', size=16)\n",
        "plt.xlabel('Épocas', size=16)\n",
        "plt.legend(['Entrenamiento', 'Validación'], loc='upper right');\n"
      ],
      "metadata": {
        "colab": {
          "base_uri": "https://localhost:8080/",
          "height": 287
        },
        "id": "BqHrsPj8Fg2D",
        "outputId": "d1322942-72e5-4e70-e692-7f7f663c3ca5"
      },
      "execution_count": 46,
      "outputs": [
        {
          "output_type": "display_data",
          "data": {
            "text/plain": [
              "<Figure size 432x288 with 1 Axes>"
            ],
            "image/png": "[encoded data removed]"
          },
          "metadata": {
            "needs_background": "light"
          }
        }
      ]
    },
    {
      "cell_type": "code",
      "source": [
        "\n",
        "scores = model_keras.evaluate(test_x, test_y)\n",
        "print('Test loss:', scores[0])\n"
      ],
      "metadata": {
        "colab": {
          "base_uri": "https://localhost:8080/"
        },
        "id": "owuFSSqLFpf1",
        "outputId": "8f0077b2-954e-46c7-99ac-57a05cb20417"
      },
      "execution_count": 47,
      "outputs": [
        {
          "output_type": "stream",
          "name": "stdout",
          "text": [
            "1/1 [==============================] - 0s 18ms/step - loss: nan - mean_squared_error: nan\n",
            "Test loss: nan\n"
          ]
        }
      ]
    },
    {
      "cell_type": "code",
      "source": [
        "\n",
        "# 5\n",
        "\n",
        "predictions = model_keras.predict(test_x)\n",
        "print(len(predictions))\n"
      ],
      "metadata": {
        "colab": {
          "base_uri": "https://localhost:8080/"
        },
        "id": "jqaEMDSFFvPb",
        "outputId": "f0009d7f-1ef9-46dd-b6f0-ec9ceda10b81"
      },
      "execution_count": 48,
      "outputs": [
        {
          "output_type": "stream",
          "name": "stdout",
          "text": [
            "1/1 [==============================] - 0s 257ms/step\n",
            "7\n"
          ]
        }
      ]
    },
    {
      "cell_type": "code",
      "source": [
        "\n",
        "# El modelo falla completamente\n",
        "(predictions[6] * df_train.std()) + df_train.mean()\n"
      ],
      "metadata": {
        "colab": {
          "base_uri": "https://localhost:8080/"
        },
        "id": "hmViZrr2F2eg",
        "outputId": "eded9019-d77d-4585-81ec-03e7f0fb4377"
      },
      "execution_count": 51,
      "outputs": [
        {
          "output_type": "execute_result",
          "data": {
            "text/plain": [
              "Año   NaN\n",
              "Pob   NaN\n",
              "Inc   NaN\n",
              "TN    NaN\n",
              "TM    NaN\n",
              "dtype: float64"
            ]
          },
          "metadata": {},
          "execution_count": 51
        }
      ]
    },
    {
      "cell_type": "code",
      "source": [],
      "metadata": {
        "id": "aBx_8h-HGByZ"
      },
      "execution_count": null,
      "outputs": []
    }
  ]
}