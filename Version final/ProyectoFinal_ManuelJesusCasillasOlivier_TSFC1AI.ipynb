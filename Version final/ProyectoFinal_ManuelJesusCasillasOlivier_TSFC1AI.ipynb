{
 "cells": [
  {
   "cell_type": "markdown",
   "metadata": {
    "id": "2X070fzypxGS"
   },
   "source": [
    "<center>\n",
    "\n",
    "# Proyecto final: **Crecimiento Poblacional en México (2022-2100)**\n",
    "\n",
    "## **Manuel Jesús Casillas Olivier**\n",
    "\n",
    "### **Temas Selectos de Física Computacional I: Inteligencia Artificial en la Física**\n",
    "\n",
    "**14 / 12 / 2022**\n",
    "\n",
    "</center>\n",
    "\n",
    "---\n",
    "\n",
    "\n",
    "\n",
    "\n"
   ]
  },
  {
   "cell_type": "markdown",
   "metadata": {
    "id": "FemA62yLsNr9"
   },
   "source": [
    "\n",
    "**Breve introducción:**\n",
    "\n",
    "> El 15 de noviembre del 2022 la población mundial alcanzó el número de 8 mil millones de personas. Nuevamente surge el debate de si la cantidad de personas habitando la tierra es \"considerablemente\" relevante para el aceleramiento del cambio climático, aumento en la contaminación del aire, tierra y agua, la extinción de especies producto del desplazamiento de sus hábitats por el incremento de las actividades humanas, la lucha por el espacio, etc. Sin duda la sobrepoblación es un problema, pero tendría que discutirse si tiene más que ver más con factores políticos y económicos que con un problema númerico en sí.\n",
    "\n",
    "Según las cifras de [Expansión](https://datosmacro.expansion.com/paises/mexico#:~:text=M%C3%A9xico,%20con%20una%20poblaci%C3%B3n%20de,66%20habitantes%20por%20Km2.), en 2022 la población de México alcanzó la cifra de 130,262,220 personas.\n",
    "\n",
    "\n",
    "\n",
    "\n"
   ]
  },
  {
   "cell_type": "markdown",
   "metadata": {
    "id": "PLXEyXaOvK_m"
   },
   "source": [
    "<center>\n",
    "\n",
    "## **1. Problema a resolver:**\n",
    "\n",
    "</center>\n"
   ]
  },
  {
   "cell_type": "markdown",
   "metadata": {
    "id": "koSw33Njw_DS"
   },
   "source": [
    "Se realizará un modelo que predecirá la evolución del incremento poblacional de México hasta 2100. Se puede caracterizar al crecimiento de la población con diferentes inputs o rasgos, como la tasa de mortalidad, tasa de natalidad, etc. Sin embargo, en este caso basta con el año transcurrido ( $t$ ) como variable independiente y la población al término de dicho año ( $P$ ) para establecer la relación:\n",
    "\n",
    "<center>\n",
    "\n",
    "$P = P(t)$\n",
    "\n",
    "</center>\n",
    "\n",
    "De esta manera, el único output de interés para la solución del problema es $P(t)$ y el objetivo fundamental de este proyecto es caracterizar cuantitativamente su evolución en el intervalo de tiempo $[ t_0 = 2022, t_f = 2100]$.\n",
    "\n",
    "Los datos son obtenidos de los siguientes sitios web:\n",
    "\n",
    "[1] [Banco Mundial](https://datos.bancomundial.org/indicador/sp.pop.grow?locations=MX)\n",
    "\n",
    "[2] [Gobierno de México](https://datos.gob.mx/busca/dataset/proyecciones-de-la-poblacion-de-mexico-y-de-las-entidades-federativas-2016-2050/resource/b29b9649-72bc-48e7-9edd-c385b0f450e8)\n",
    "\n",
    "[3] [INEGI](https://cuentame.inegi.org.mx/poblacion/habitantes.aspx)\n",
    "\n",
    "[4] [Expansión](https://datosmacro.expansion.com/demografia/poblacion/mexico)\n",
    "\n",
    "[5] [Revista Iberoamericana 3ra ed. Vol. 12 (2003) Págs. 25-52](https://journals.iai.spk-berlin.de/index.php/iberoamericana/article/download/628/312)\n",
    "\n",
    "A partir de las anteriores fuentes se contruyó un archivo .csv para un mejor manejo con la paquetería pandas de python. Dicho archivo se encuentra adjunto a este notebook, en caso de querer ser consultado.\n",
    "\n",
    "\n",
    "---\n",
    "\n"
   ]
  },
  {
   "cell_type": "code",
   "execution_count": 71,
   "metadata": {
    "id": "_e5KT9-pxtEa"
   },
   "outputs": [],
   "source": [
    "\n",
    "import tensorflow as tf\n",
    "from tensorflow import keras\n",
    "from tensorflow.keras.models import Sequential\n",
    "from tensorflow.keras.layers import Input, Dense, Flatten\n",
    "from tensorflow.keras.layers import Activation\n",
    "from tensorflow.keras.optimizers import SGD, Adam\n",
    "from tensorflow.keras.models import Model\n",
    "from tensorflow.keras.utils import plot_model\n",
    "from tensorflow.keras import initializers\n",
    "\n",
    "import numpy as np\n",
    "import pandas as pd\n",
    "import matplotlib.pyplot as plt\n",
    "import networkx as nx\n",
    "import time\n",
    "\n",
    "np.random.seed(4)\n"
   ]
  },
  {
   "cell_type": "code",
   "execution_count": 687,
   "metadata": {
    "colab": {
     "base_uri": "https://localhost:8080/",
     "height": 206
    },
    "id": "q8xxyx01plWo",
    "outputId": "81489a77-7645-4bc7-a233-7f1663eca3b2"
   },
   "outputs": [
    {
     "data": {
      "text/html": [
       "\n",
       "  <div id=\"df-9bc7ded8-6c6e-4378-a692-2fe066aecc49\">\n",
       "    <div class=\"colab-df-container\">\n",
       "      <div>\n",
       "<style scoped>\n",
       "    .dataframe tbody tr th:only-of-type {\n",
       "        vertical-align: middle;\n",
       "    }\n",
       "\n",
       "    .dataframe tbody tr th {\n",
       "        vertical-align: top;\n",
       "    }\n",
       "\n",
       "    .dataframe thead th {\n",
       "        text-align: right;\n",
       "    }\n",
       "</style>\n",
       "<table border=\"1\" class=\"dataframe\">\n",
       "  <thead>\n",
       "    <tr style=\"text-align: right;\">\n",
       "      <th></th>\n",
       "      <th>Año</th>\n",
       "      <th>Pob</th>\n",
       "    </tr>\n",
       "  </thead>\n",
       "  <tbody>\n",
       "    <tr>\n",
       "      <th>0</th>\n",
       "      <td>1821</td>\n",
       "      <td>6.633468</td>\n",
       "    </tr>\n",
       "    <tr>\n",
       "      <th>1</th>\n",
       "      <td>1822</td>\n",
       "      <td>6.679785</td>\n",
       "    </tr>\n",
       "    <tr>\n",
       "      <th>2</th>\n",
       "      <td>1823</td>\n",
       "      <td>6.724206</td>\n",
       "    </tr>\n",
       "    <tr>\n",
       "      <th>3</th>\n",
       "      <td>1824</td>\n",
       "      <td>6.747283</td>\n",
       "    </tr>\n",
       "    <tr>\n",
       "      <th>4</th>\n",
       "      <td>1825</td>\n",
       "      <td>6.774055</td>\n",
       "    </tr>\n",
       "  </tbody>\n",
       "</table>\n",
       "</div>\n",
       "      <button class=\"colab-df-convert\" onclick=\"convertToInteractive('df-9bc7ded8-6c6e-4378-a692-2fe066aecc49')\"\n",
       "              title=\"Convert this dataframe to an interactive table.\"\n",
       "              style=\"display:none;\">\n",
       "        \n",
       "  <svg xmlns=\"http://www.w3.org/2000/svg\" height=\"24px\"viewBox=\"0 0 24 24\"\n",
       "       width=\"24px\">\n",
       "    <path d=\"M0 0h24v24H0V0z\" fill=\"none\"/>\n",
       "    <path d=\"M18.56 5.44l.94 2.06.94-2.06 2.06-.94-2.06-.94-.94-2.06-.94 2.06-2.06.94zm-11 1L8.5 8.5l.94-2.06 2.06-.94-2.06-.94L8.5 2.5l-.94 2.06-2.06.94zm10 10l.94 2.06.94-2.06 2.06-.94-2.06-.94-.94-2.06-.94 2.06-2.06.94z\"/><path d=\"M17.41 7.96l-1.37-1.37c-.4-.4-.92-.59-1.43-.59-.52 0-1.04.2-1.43.59L10.3 9.45l-7.72 7.72c-.78.78-.78 2.05 0 2.83L4 21.41c.39.39.9.59 1.41.59.51 0 1.02-.2 1.41-.59l7.78-7.78 2.81-2.81c.8-.78.8-2.07 0-2.86zM5.41 20L4 18.59l7.72-7.72 1.47 1.35L5.41 20z\"/>\n",
       "  </svg>\n",
       "      </button>\n",
       "      \n",
       "  <style>\n",
       "    .colab-df-container {\n",
       "      display:flex;\n",
       "      flex-wrap:wrap;\n",
       "      gap: 12px;\n",
       "    }\n",
       "\n",
       "    .colab-df-convert {\n",
       "      background-color: #E8F0FE;\n",
       "      border: none;\n",
       "      border-radius: 50%;\n",
       "      cursor: pointer;\n",
       "      display: none;\n",
       "      fill: #1967D2;\n",
       "      height: 32px;\n",
       "      padding: 0 0 0 0;\n",
       "      width: 32px;\n",
       "    }\n",
       "\n",
       "    .colab-df-convert:hover {\n",
       "      background-color: #E2EBFA;\n",
       "      box-shadow: 0px 1px 2px rgba(60, 64, 67, 0.3), 0px 1px 3px 1px rgba(60, 64, 67, 0.15);\n",
       "      fill: #174EA6;\n",
       "    }\n",
       "\n",
       "    [theme=dark] .colab-df-convert {\n",
       "      background-color: #3B4455;\n",
       "      fill: #D2E3FC;\n",
       "    }\n",
       "\n",
       "    [theme=dark] .colab-df-convert:hover {\n",
       "      background-color: #434B5C;\n",
       "      box-shadow: 0px 1px 3px 1px rgba(0, 0, 0, 0.15);\n",
       "      filter: drop-shadow(0px 1px 2px rgba(0, 0, 0, 0.3));\n",
       "      fill: #FFFFFF;\n",
       "    }\n",
       "  </style>\n",
       "\n",
       "      <script>\n",
       "        const buttonEl =\n",
       "          document.querySelector('#df-9bc7ded8-6c6e-4378-a692-2fe066aecc49 button.colab-df-convert');\n",
       "        buttonEl.style.display =\n",
       "          google.colab.kernel.accessAllowed ? 'block' : 'none';\n",
       "\n",
       "        async function convertToInteractive(key) {\n",
       "          const element = document.querySelector('#df-9bc7ded8-6c6e-4378-a692-2fe066aecc49');\n",
       "          const dataTable =\n",
       "            await google.colab.kernel.invokeFunction('convertToInteractive',\n",
       "                                                     [key], {});\n",
       "          if (!dataTable) return;\n",
       "\n",
       "          const docLinkHtml = 'Like what you see? Visit the ' +\n",
       "            '<a target=\"_blank\" href=https://colab.research.google.com/notebooks/data_table.ipynb>data table notebook</a>'\n",
       "            + ' to learn more about interactive tables.';\n",
       "          element.innerHTML = '';\n",
       "          dataTable['output_type'] = 'display_data';\n",
       "          await google.colab.output.renderOutput(dataTable, element);\n",
       "          const docLink = document.createElement('div');\n",
       "          docLink.innerHTML = docLinkHtml;\n",
       "          element.appendChild(docLink);\n",
       "        }\n",
       "      </script>\n",
       "    </div>\n",
       "  </div>\n",
       "  "
      ],
      "text/plain": [
       "    Año       Pob\n",
       "0  1821  6.633468\n",
       "1  1822  6.679785\n",
       "2  1823  6.724206\n",
       "3  1824  6.747283\n",
       "4  1825  6.774055"
      ]
     },
     "execution_count": 687,
     "metadata": {},
     "output_type": "execute_result"
    }
   ],
   "source": [
    "\n",
    "# 2. Análisis de datos\n",
    "\n",
    "\"\"\"\n",
    "Pob (población en el respectivo año) se encuentra en millones de habitantes, se eliminó el formato de tabla de cada rasgo\n",
    "para evitar complicaciones con el análisis de datos al convertir el archivo .csv a data frame de pandas\n",
    "\"\"\"\n",
    "\n",
    "datos = pd.read_csv(\"poblacionMexico.csv\")\n",
    "df = pd.DataFrame(datos)\n",
    "\n",
    "df.head()\n"
   ]
  },
  {
   "cell_type": "code",
   "execution_count": 98,
   "metadata": {
    "colab": {
     "base_uri": "https://localhost:8080/",
     "height": 284
    },
    "id": "ZJgeZuR_Jmg8",
    "outputId": "652e6884-4b45-47bd-b775-e16949d0228f"
   },
   "outputs": [
    {
     "data": {
      "image/png": "[encoded data removed]",
      "text/plain": [
       "<Figure size 432x288 with 1 Axes>"
      ]
     },
     "metadata": {
      "needs_background": "light"
     },
     "output_type": "display_data"
    }
   ],
   "source": [
    "\n",
    "# Gráfica del .csv con matplotlib\n",
    "plt.xlabel('Año', size = 16)\n",
    "plt.ylabel('Población', size = 16)\n",
    "listOf_Xticks = np.arange(1821, 2022, 20)\n",
    "plt.xticks(listOf_Xticks)\n",
    "plt.scatter(df['Año'], df['Pob'], color = 'red')\n",
    "plt.show()\n"
   ]
  },
  {
   "cell_type": "code",
   "execution_count": 689,
   "metadata": {
    "colab": {
     "base_uri": "https://localhost:8080/"
    },
    "id": "pnZBW_S1AVpC",
    "outputId": "bff75af6-70fb-4cda-a5dd-cda59b0fc3df"
   },
   "outputs": [
    {
     "name": "stdout",
     "output_type": "stream",
     "text": [
      "Las dimensiones del conjunto de entrenamiento son: (166, 2)\n",
      "Las dimensiones del conjunto de pruebas son: (79, 2)\n"
     ]
    }
   ],
   "source": [
    "\n",
    "# 3. Separación de los datos \n",
    "\n",
    "# Para el conjunto de pruebas, tomando un 32%\n",
    "test_ratio = 0.32   \n",
    "\n",
    "# Para el conjunto de entrenamiento, se toma el 68% de la dimensión total de los registros usando .values, len() e int()\n",
    "train_ratio = int((1.0 - test_ratio) * len(df.values[:,:]))   \n",
    "\n",
    "# Se usa el método .iloc de pandas para seleccionar los registros por renglon y columna\n",
    "df_train = df.iloc[0:train_ratio,:]\n",
    "df_test  = df.iloc[train_ratio:,:]\n",
    "\n",
    "# Con .shape de pandas se muestran las dimensiones de los conjuntos anteriores\n",
    "print(\"Las dimensiones del conjunto de entrenamiento son:\", df_train.shape)\n",
    "print(\"Las dimensiones del conjunto de pruebas son:\", df_test.shape)\n"
   ]
  },
  {
   "cell_type": "markdown",
   "metadata": {
    "id": "YLRL_Iwcyc9v"
   },
   "source": [
    "\n",
    "<font size = 3>\n",
    "Usando que:\n",
    "$$x_{i,norm} = \\dfrac{x_{i}-\\mu}{\\sigma}$$\n",
    "    \n",
    "$$y_{i,norm} = \\dfrac{y_{i}-\\mu}{\\sigma}$$\n",
    "    \n",
    "    "
   ]
  },
  {
   "cell_type": "code",
   "execution_count": 690,
   "metadata": {
    "id": "EmrecMfpi155"
   },
   "outputs": [],
   "source": [
    "\n",
    "\"\"\"\n",
    "Usando las expresiones anteriores, con los métodos .mean() y std() de pandas se obtienen el promedio y la desviación\n",
    "estándar del conjunto de entrenamiento respectivamente\n",
    "\"\"\"\n",
    "df_train_norm = (df_train - df_train.mean()) / df_train.std()\n",
    "\n",
    "# Normalizando el conjunto de pruebas con el promedio y desviación del conjunto de entrenamiento\n",
    "df_test_norm = (df_test - df_train.mean()) / df_train.std()\n"
   ]
  },
  {
   "cell_type": "code",
   "execution_count": 691,
   "metadata": {
    "id": "rxIO7Isp8wmL"
   },
   "outputs": [],
   "source": [
    "\n",
    "\"\"\"\n",
    "El método .values extraen por medio de las variables X y Y las columnas del Data frame convierténdose en arreglos numpy y se separan\n",
    "los valores de entrada y salida\n",
    "\"\"\"\n",
    "\n",
    "train_x = df_train_norm.values[:,:-1]\n",
    "train_y = df_train_norm.values[:,-1:]\n",
    "\n",
    "test_x = df_test_norm.values[:,:-1]\n",
    "test_y = df_test_norm.values[:,-1:]\n"
   ]
  },
  {
   "cell_type": "code",
   "execution_count": 692,
   "metadata": {
    "id": "gQ-1IK4CC1c_"
   },
   "outputs": [],
   "source": [
    "\n",
    "# Se transponen con .T los conjuntos para que sean óptimos en la aplicación para la red neuronal\n",
    "x_train = train_x.T\n",
    "x_test = test_x.T\n",
    "\n",
    "y_train = train_y.T\n",
    "y_test = test_y.T\n"
   ]
  },
  {
   "cell_type": "markdown",
   "metadata": {
    "id": "jS8OjSQYvC3v"
   },
   "source": [
    "\n",
    "<center>\n",
    "\n",
    "Se utilizará una red neuronal tipo FFF:\n",
    "\n",
    "</center>\n"
   ]
  },
  {
   "cell_type": "code",
   "execution_count": 693,
   "metadata": {
    "id": "R2DOMdzotmyX"
   },
   "outputs": [],
   "source": [
    "\n",
    "import networkx as nx\n"
   ]
  },
  {
   "cell_type": "code",
   "execution_count": 694,
   "metadata": {
    "id": "EhFSyUR7C45G"
   },
   "outputs": [],
   "source": [
    "\n",
    "# 4\n",
    "\n",
    "class Network(object):\n",
    "    \n",
    "    def  __init__ (self,sizes):\n",
    "        self.num_layers = len(sizes)\n",
    "        print(\"It has\", self.num_layers, \"layers,\")\n",
    "        self.sizes = sizes\n",
    "        print(\"with the following number of nodes per layer\",self.sizes)\n",
    "        self.biases = [np.random.randn(y, 1) for y in sizes[1:]]\n",
    "        self.weights = [np.random.randn(y, x)\n",
    "                        for x, y in zip(sizes[:-1], sizes[1:])]\n",
    "        \n",
    "    def feedforward(self, x_of_sample):\n",
    "        \"\"\"Return the output of the network F(x_of_sample) \"\"\"        \n",
    "        for b, w in zip(self.biases, self.weights):\n",
    "            x_of_sample = sigmoid(np.dot(w, x_of_sample)+b)\n",
    "        return x_of_sample\n",
    "    \n",
    "    def graph(self,sizes):\n",
    "        a=[]\n",
    "        ps={}\n",
    "        Q = nx.Graph()\n",
    "        for i in range(len(sizes)):\n",
    "            Qi=nx.Graph()    \n",
    "            n=sizes[i]\n",
    "            nodos=np.arange(n)\n",
    "            Qi.add_nodes_from(nodos)\n",
    "            l_i=Qi.nodes\n",
    "            Q = nx.union(Q, Qi, rename = (None, 'Q%i-'%i))\n",
    "            if len(l_i)==1:\n",
    "                ps['Q%i-0'%i]=[i/(len(sizes)), 1/2]\n",
    "            else:\n",
    "                for j in range(len(l_i)+1):\n",
    "                    ps['Q%i-%i'%(i,j)]=[i/(len(sizes)),(1/(len(l_i)*len(l_i)))+(j/(len(l_i)))]\n",
    "            a.insert(i,Qi)\n",
    "        for i in range(len(a)-1):\n",
    "            for j in range(len(a[i])):\n",
    "                for k in range(len(a[i+1])):\n",
    "                    Q.add_edge('Q%i-%i' %(i,j),'Q%i-%i' %(i+1,k))\n",
    "        nx.draw(Q, pos = ps)    \n",
    "        "
   ]
  },
  {
   "cell_type": "code",
   "execution_count": 695,
   "metadata": {
    "id": "Rc9M-YeJDObv"
   },
   "outputs": [],
   "source": [
    "\n",
    "\"\"\"\n",
    "La siguiente función genera la cantidad de neuronas por capa de la red neuronal FFF, se conviene el número de nodos de la\n",
    "capa oculta\n",
    "\"\"\"\n",
    "\n",
    "def layer_sizes(X, Y, n_h):\n",
    "    \n",
    "    n_x = X.shape[0] \n",
    "    n_h = n_h\n",
    "    n_y = Y.shape[0]\n",
    "    \n",
    "    return (n_x, n_h, n_y)\n"
   ]
  },
  {
   "cell_type": "code",
   "execution_count": 696,
   "metadata": {
    "colab": {
     "base_uri": "https://localhost:8080/"
    },
    "id": "S1phKNoyDlAx",
    "outputId": "beaa08c2-354b-4c94-cdf8-c8a602612d1d"
   },
   "outputs": [
    {
     "name": "stdout",
     "output_type": "stream",
     "text": [
      "No. de neuronas en la capa de entrada: 1\n",
      "No. de neuronas en la capa oculta: 1\n",
      "No. de neuronas en la capa de salida: 1\n"
     ]
    }
   ],
   "source": [
    "\n",
    "# Comprobando\n",
    "n_h = 1\n",
    "n_x, n_h, n_y = layer_sizes(x_train, y_train, n_h = n_h)\n",
    "\n",
    "print(\"No. de neuronas en la capa de entrada:\", n_x)\n",
    "print(\"No. de neuronas en la capa oculta:\", n_h)\n",
    "print(\"No. de neuronas en la capa de salida:\", n_y)\n"
   ]
  },
  {
   "cell_type": "code",
   "execution_count": 697,
   "metadata": {
    "colab": {
     "base_uri": "https://localhost:8080/",
     "height": 354
    },
    "id": "c_MXourdDx4J",
    "outputId": "891b1e5d-82db-4295-aca3-d9f25afe4f4c"
   },
   "outputs": [
    {
     "name": "stdout",
     "output_type": "stream",
     "text": [
      "It has 3 layers,\n",
      "with the following number of nodes per layer [1, 1, 1]\n"
     ]
    },
    {
     "data": {
      "image/png": "[encoded data removed]",
      "text/plain": [
       "<Figure size 432x288 with 1 Axes>"
      ]
     },
     "metadata": {},
     "output_type": "display_data"
    }
   ],
   "source": [
    "\n",
    "# Utilizando la clase Network se realiza el esquema de la red neuronal con las características pedidas\n",
    "layers = [n_x, n_h, n_y]\n",
    "net = Network(layers)\n",
    "net.graph(layers)\n"
   ]
  },
  {
   "cell_type": "code",
   "execution_count": 698,
   "metadata": {
    "colab": {
     "base_uri": "https://localhost:8080/",
     "height": 35
    },
    "id": "jJQTh7rBD-T8",
    "outputId": "e1b74323-1ab5-4f79-a330-a26f846a3958"
   },
   "outputs": [
    {
     "data": {
      "application/vnd.google.colaboratory.intrinsic+json": {
       "type": "string"
      },
      "text/plain": [
       "'2.9.0'"
      ]
     },
     "execution_count": 698,
     "metadata": {},
     "output_type": "execute_result"
    }
   ],
   "source": [
    "\n",
    "# Personalmente me aseguro de tener bien instalado keras en mi entorno de anaconda navigator\n",
    "keras.__version__\n"
   ]
  },
  {
   "cell_type": "code",
   "execution_count": 727,
   "metadata": {
    "id": "E5eGes_ZEN0b"
   },
   "outputs": [],
   "source": [
    "\n",
    "def architecture(input_shape, activation):\n",
    "    \n",
    "    \"\"\"\n",
    "    Implementación del modelo secuencial (izquierda-derecha) con el método Sequential() de keras.\n",
    "    Con los métodos de keras .add se añade una capa, Dense() para conectar todos los nodos actuales con los nodos \n",
    "    anteriores específicando n_h = 1 número de nodos en el caso de nuestro modelo y usando la notación kernel_initializer\n",
    "    como los pesos iniciales en una distribución uniforme y los bias en cero\n",
    "    \"\"\"\n",
    "\n",
    "    model = Sequential() \n",
    "    \n",
    "    # Capa de entrada y capa oculta\n",
    "    model.add(Dense(1, kernel_initializer = 'uniform', bias_initializer = 'zeros', \n",
    "                    activation=activation, \n",
    "                    input_shape=input_shape))\n",
    "    \n",
    "    # Capa de salida\n",
    "    model.add(Dense(1, kernel_initializer = 'uniform', bias_initializer = 'zeros', \n",
    "                    activation = activation))\n",
    "    \n",
    "    return model\n"
   ]
  },
  {
   "cell_type": "code",
   "execution_count": 728,
   "metadata": {
    "id": "7fHXrDPdEWeU"
   },
   "outputs": [],
   "source": [
    "\n",
    "# Como dimensión de entrada para nuestro problema en partícular se toma el número de rasgos (n_x = 1)\n",
    "input_shape = (1,)\n",
    "\n",
    "# Como activador se usa la notación 'softplus' para la función \n",
    "model_keras = architecture(input_shape = input_shape, activation = 'softplus')\n"
   ]
  },
  {
   "cell_type": "code",
   "execution_count": 729,
   "metadata": {
    "colab": {
     "base_uri": "https://localhost:8080/",
     "height": 312
    },
    "id": "f9uiu-VKEw-u",
    "outputId": "7bd9f04d-4121-47b3-9aed-e516e6ae8d5b"
   },
   "outputs": [
    {
     "data": {
      "image/png": "[encoded data removed]",
      "text/plain": [
       "<IPython.core.display.Image object>"
      ]
     },
     "execution_count": 729,
     "metadata": {},
     "output_type": "execute_result"
    }
   ],
   "source": [
    "\n",
    "\"\"\"\n",
    "El método plot_model() de keras devuelve una imagen donde se visualizan de manera gráfica todas las capas con sus\n",
    "respectivos numero de nodos que entran y salen en la red neuronal\n",
    "\"\"\"\n",
    "\n",
    "plot_model(model_keras, to_file = 'model.png', show_shapes = True, rankdir = 'TB', \n",
    "      expand_nested = True, show_layer_names = True, dpi = 96)\n"
   ]
  },
  {
   "cell_type": "code",
   "execution_count": 730,
   "metadata": {
    "colab": {
     "base_uri": "https://localhost:8080/"
    },
    "id": "wofvbRpYE5BT",
    "outputId": "1a5dab1c-7658-4823-db30-8d348d8e4d27"
   },
   "outputs": [
    {
     "name": "stdout",
     "output_type": "stream",
     "text": [
      "Model: \"sequential_46\"\n",
      "_________________________________________________________________\n",
      " Layer (type)                Output Shape              Param #   \n",
      "=================================================================\n",
      " dense_92 (Dense)            (None, 1)                 2         \n",
      "                                                                 \n",
      " dense_93 (Dense)            (None, 1)                 2         \n",
      "                                                                 \n",
      "=================================================================\n",
      "Total params: 4\n",
      "Trainable params: 4\n",
      "Non-trainable params: 0\n",
      "_________________________________________________________________\n"
     ]
    }
   ],
   "source": [
    "\n",
    "# Con el método .summary() se muestra una tabla con la información de todas las capas de la red neuronal\n",
    "model_keras.summary()\n"
   ]
  },
  {
   "cell_type": "code",
   "execution_count": 731,
   "metadata": {
    "id": "DDPher4QE_XP"
   },
   "outputs": [],
   "source": [
    "\n",
    "# Valor alpha\n",
    "lr = 0.95\n",
    "\n",
    "# Optimizador Adam\n",
    "opt = Adam(learning_rate = lr)\n",
    "\n",
    "# Con los métodos losses.MeanSquaredError() \"apilados\" se define al costo o pérdidas con el error cuadrático medio\n",
    "loss = tf.keras.losses.MeanSquaredError()\n",
    "\n",
    "# Análogamente con la presición pero mediante el método .metrics\n",
    "acc = tf.keras.metrics.MeanSquaredError()\n",
    "\n",
    "# Con el método .compile se compila la red neuronal usando la métrica basada en los anteriores hiperparámetros\n",
    "model_keras.compile(loss = loss, \n",
    "              optimizer = opt,\n",
    "              metrics = [acc])\n"
   ]
  },
  {
   "cell_type": "code",
   "execution_count": 732,
   "metadata": {
    "colab": {
     "base_uri": "https://localhost:8080/"
    },
    "id": "HbBp5ps5FNgv",
    "outputId": "bf106f35-3aa6-4bcf-d6ff-7d8fc60ba9ef"
   },
   "outputs": [
    {
     "name": "stdout",
     "output_type": "stream",
     "text": [
      "Epoch 1/200\n",
      "10/10 - 1s - loss: 0.8832 - mean_squared_error: 0.8832 - val_loss: 4.8757 - val_mean_squared_error: 4.8757 - 597ms/epoch - 60ms/step\n",
      "Epoch 2/200\n",
      "10/10 - 0s - loss: 0.7660 - mean_squared_error: 0.7660 - val_loss: 4.9053 - val_mean_squared_error: 4.9053 - 57ms/epoch - 6ms/step\n",
      "Epoch 3/200\n",
      "10/10 - 0s - loss: 0.7676 - mean_squared_error: 0.7676 - val_loss: 4.9095 - val_mean_squared_error: 4.9095 - 60ms/epoch - 6ms/step\n",
      "Epoch 4/200\n",
      "10/10 - 0s - loss: 0.7679 - mean_squared_error: 0.7679 - val_loss: 4.9104 - val_mean_squared_error: 4.9104 - 40ms/epoch - 4ms/step\n",
      "Epoch 5/200\n",
      "10/10 - 0s - loss: 0.7680 - mean_squared_error: 0.7680 - val_loss: 4.9104 - val_mean_squared_error: 4.9104 - 46ms/epoch - 5ms/step\n",
      "Epoch 6/200\n",
      "10/10 - 0s - loss: 0.7680 - mean_squared_error: 0.7680 - val_loss: 4.9101 - val_mean_squared_error: 4.9101 - 39ms/epoch - 4ms/step\n",
      "Epoch 7/200\n",
      "10/10 - 0s - loss: 0.7679 - mean_squared_error: 0.7679 - val_loss: 4.9095 - val_mean_squared_error: 4.9095 - 44ms/epoch - 4ms/step\n",
      "Epoch 8/200\n",
      "10/10 - 0s - loss: 0.7678 - mean_squared_error: 0.7678 - val_loss: 4.9086 - val_mean_squared_error: 4.9086 - 69ms/epoch - 7ms/step\n",
      "Epoch 9/200\n",
      "10/10 - 0s - loss: 0.7677 - mean_squared_error: 0.7677 - val_loss: 4.9075 - val_mean_squared_error: 4.9075 - 43ms/epoch - 4ms/step\n",
      "Epoch 10/200\n",
      "10/10 - 0s - loss: 0.7675 - mean_squared_error: 0.7675 - val_loss: 4.9059 - val_mean_squared_error: 4.9059 - 45ms/epoch - 4ms/step\n",
      "Epoch 11/200\n",
      "10/10 - 0s - loss: 0.7672 - mean_squared_error: 0.7672 - val_loss: 4.9038 - val_mean_squared_error: 4.9038 - 44ms/epoch - 4ms/step\n",
      "Epoch 12/200\n",
      "10/10 - 0s - loss: 0.7669 - mean_squared_error: 0.7669 - val_loss: 4.9010 - val_mean_squared_error: 4.9010 - 43ms/epoch - 4ms/step\n",
      "Epoch 13/200\n",
      "10/10 - 0s - loss: 0.7664 - mean_squared_error: 0.7664 - val_loss: 4.8965 - val_mean_squared_error: 4.8965 - 41ms/epoch - 4ms/step\n",
      "Epoch 14/200\n",
      "10/10 - 0s - loss: 0.7656 - mean_squared_error: 0.7656 - val_loss: 4.8877 - val_mean_squared_error: 4.8877 - 56ms/epoch - 6ms/step\n",
      "Epoch 15/200\n",
      "10/10 - 0s - loss: 0.7640 - mean_squared_error: 0.7640 - val_loss: 4.8713 - val_mean_squared_error: 4.8713 - 65ms/epoch - 7ms/step\n",
      "Epoch 16/200\n",
      "10/10 - 0s - loss: 0.7605 - mean_squared_error: 0.7605 - val_loss: 4.8242 - val_mean_squared_error: 4.8242 - 43ms/epoch - 4ms/step\n",
      "Epoch 17/200\n",
      "10/10 - 0s - loss: 0.7447 - mean_squared_error: 0.7447 - val_loss: 4.4817 - val_mean_squared_error: 4.4817 - 40ms/epoch - 4ms/step\n",
      "Epoch 18/200\n",
      "10/10 - 0s - loss: 0.5322 - mean_squared_error: 0.5322 - val_loss: 0.0109 - val_mean_squared_error: 0.0109 - 40ms/epoch - 4ms/step\n",
      "Epoch 19/200\n",
      "10/10 - 0s - loss: 0.6068 - mean_squared_error: 0.6068 - val_loss: 3.5524 - val_mean_squared_error: 3.5524 - 51ms/epoch - 5ms/step\n",
      "Epoch 20/200\n",
      "10/10 - 0s - loss: 0.5322 - mean_squared_error: 0.5322 - val_loss: 0.2835 - val_mean_squared_error: 0.2835 - 41ms/epoch - 4ms/step\n",
      "Epoch 21/200\n",
      "10/10 - 0s - loss: 0.4550 - mean_squared_error: 0.4550 - val_loss: 0.9535 - val_mean_squared_error: 0.9535 - 42ms/epoch - 4ms/step\n",
      "Epoch 22/200\n",
      "10/10 - 0s - loss: 0.3746 - mean_squared_error: 0.3746 - val_loss: 0.4063 - val_mean_squared_error: 0.4063 - 43ms/epoch - 4ms/step\n",
      "Epoch 23/200\n",
      "10/10 - 0s - loss: 0.3640 - mean_squared_error: 0.3640 - val_loss: 1.8069 - val_mean_squared_error: 1.8069 - 51ms/epoch - 5ms/step\n",
      "Epoch 24/200\n",
      "10/10 - 0s - loss: 0.3871 - mean_squared_error: 0.3871 - val_loss: 0.2409 - val_mean_squared_error: 0.2409 - 43ms/epoch - 4ms/step\n",
      "Epoch 25/200\n",
      "10/10 - 0s - loss: 0.3623 - mean_squared_error: 0.3623 - val_loss: 0.4442 - val_mean_squared_error: 0.4442 - 71ms/epoch - 7ms/step\n",
      "Epoch 26/200\n",
      "10/10 - 0s - loss: 0.3645 - mean_squared_error: 0.3645 - val_loss: 0.3716 - val_mean_squared_error: 0.3716 - 50ms/epoch - 5ms/step\n",
      "Epoch 27/200\n",
      "10/10 - 0s - loss: 0.3632 - mean_squared_error: 0.3632 - val_loss: 0.1703 - val_mean_squared_error: 0.1703 - 43ms/epoch - 4ms/step\n",
      "Epoch 28/200\n",
      "10/10 - 0s - loss: 0.3613 - mean_squared_error: 0.3613 - val_loss: 0.1528 - val_mean_squared_error: 0.1528 - 43ms/epoch - 4ms/step\n",
      "Epoch 29/200\n",
      "10/10 - 0s - loss: 0.3693 - mean_squared_error: 0.3693 - val_loss: 1.5133 - val_mean_squared_error: 1.5133 - 42ms/epoch - 4ms/step\n",
      "Epoch 30/200\n",
      "10/10 - 0s - loss: 0.3717 - mean_squared_error: 0.3717 - val_loss: 0.6218 - val_mean_squared_error: 0.6218 - 52ms/epoch - 5ms/step\n",
      "Epoch 31/200\n",
      "10/10 - 0s - loss: 0.3564 - mean_squared_error: 0.3564 - val_loss: 0.2702 - val_mean_squared_error: 0.2702 - 58ms/epoch - 6ms/step\n",
      "Epoch 32/200\n",
      "10/10 - 0s - loss: 0.3570 - mean_squared_error: 0.3570 - val_loss: 0.3353 - val_mean_squared_error: 0.3353 - 48ms/epoch - 5ms/step\n",
      "Epoch 33/200\n",
      "10/10 - 0s - loss: 0.3481 - mean_squared_error: 0.3481 - val_loss: 0.6015 - val_mean_squared_error: 0.6015 - 42ms/epoch - 4ms/step\n",
      "Epoch 34/200\n",
      "10/10 - 0s - loss: 0.3551 - mean_squared_error: 0.3551 - val_loss: 0.8672 - val_mean_squared_error: 0.8672 - 48ms/epoch - 5ms/step\n",
      "Epoch 35/200\n",
      "10/10 - 0s - loss: 0.3527 - mean_squared_error: 0.3527 - val_loss: 0.4674 - val_mean_squared_error: 0.4674 - 41ms/epoch - 4ms/step\n",
      "Epoch 36/200\n",
      "10/10 - 0s - loss: 0.3477 - mean_squared_error: 0.3477 - val_loss: 0.2304 - val_mean_squared_error: 0.2304 - 44ms/epoch - 4ms/step\n",
      "Epoch 37/200\n",
      "10/10 - 0s - loss: 0.3487 - mean_squared_error: 0.3487 - val_loss: 0.8538 - val_mean_squared_error: 0.8538 - 40ms/epoch - 4ms/step\n",
      "Epoch 38/200\n",
      "10/10 - 0s - loss: 0.3588 - mean_squared_error: 0.3588 - val_loss: 0.4340 - val_mean_squared_error: 0.4340 - 40ms/epoch - 4ms/step\n",
      "Epoch 39/200\n",
      "10/10 - 0s - loss: 0.3890 - mean_squared_error: 0.3890 - val_loss: 1.9612 - val_mean_squared_error: 1.9612 - 47ms/epoch - 5ms/step\n",
      "Epoch 40/200\n",
      "10/10 - 0s - loss: 0.4056 - mean_squared_error: 0.4056 - val_loss: 0.1031 - val_mean_squared_error: 0.1031 - 39ms/epoch - 4ms/step\n",
      "Epoch 41/200\n",
      "10/10 - 0s - loss: 0.3636 - mean_squared_error: 0.3636 - val_loss: 0.5192 - val_mean_squared_error: 0.5192 - 41ms/epoch - 4ms/step\n",
      "Epoch 42/200\n",
      "10/10 - 0s - loss: 0.3970 - mean_squared_error: 0.3970 - val_loss: 0.1953 - val_mean_squared_error: 0.1953 - 41ms/epoch - 4ms/step\n",
      "Epoch 43/200\n",
      "10/10 - 0s - loss: 0.3979 - mean_squared_error: 0.3979 - val_loss: 0.2957 - val_mean_squared_error: 0.2957 - 52ms/epoch - 5ms/step\n",
      "Epoch 44/200\n",
      "10/10 - 0s - loss: 0.3580 - mean_squared_error: 0.3580 - val_loss: 0.3636 - val_mean_squared_error: 0.3636 - 42ms/epoch - 4ms/step\n",
      "Epoch 45/200\n",
      "10/10 - 0s - loss: 0.3439 - mean_squared_error: 0.3439 - val_loss: 0.2472 - val_mean_squared_error: 0.2472 - 61ms/epoch - 6ms/step\n",
      "Epoch 46/200\n",
      "10/10 - 0s - loss: 0.3465 - mean_squared_error: 0.3465 - val_loss: 0.3075 - val_mean_squared_error: 0.3075 - 39ms/epoch - 4ms/step\n",
      "Epoch 47/200\n",
      "10/10 - 0s - loss: 0.3611 - mean_squared_error: 0.3611 - val_loss: 0.3601 - val_mean_squared_error: 0.3601 - 45ms/epoch - 4ms/step\n",
      "Epoch 48/200\n",
      "10/10 - 0s - loss: 0.3538 - mean_squared_error: 0.3538 - val_loss: 0.2192 - val_mean_squared_error: 0.2192 - 42ms/epoch - 4ms/step\n",
      "Epoch 49/200\n",
      "10/10 - 0s - loss: 0.3748 - mean_squared_error: 0.3748 - val_loss: 0.7116 - val_mean_squared_error: 0.7116 - 42ms/epoch - 4ms/step\n",
      "Epoch 50/200\n",
      "10/10 - 0s - loss: 0.3580 - mean_squared_error: 0.3580 - val_loss: 0.4998 - val_mean_squared_error: 0.4998 - 46ms/epoch - 5ms/step\n",
      "Epoch 51/200\n",
      "10/10 - 0s - loss: 0.3436 - mean_squared_error: 0.3436 - val_loss: 0.5558 - val_mean_squared_error: 0.5558 - 43ms/epoch - 4ms/step\n",
      "Epoch 52/200\n",
      "10/10 - 0s - loss: 0.3436 - mean_squared_error: 0.3436 - val_loss: 0.4320 - val_mean_squared_error: 0.4320 - 39ms/epoch - 4ms/step\n",
      "Epoch 53/200\n",
      "10/10 - 0s - loss: 0.3496 - mean_squared_error: 0.3496 - val_loss: 0.5630 - val_mean_squared_error: 0.5630 - 49ms/epoch - 5ms/step\n",
      "Epoch 54/200\n",
      "10/10 - 0s - loss: 0.3380 - mean_squared_error: 0.3380 - val_loss: 0.2358 - val_mean_squared_error: 0.2358 - 39ms/epoch - 4ms/step\n",
      "Epoch 55/200\n",
      "10/10 - 0s - loss: 0.3504 - mean_squared_error: 0.3504 - val_loss: 0.2471 - val_mean_squared_error: 0.2471 - 42ms/epoch - 4ms/step\n",
      "Epoch 56/200\n",
      "10/10 - 0s - loss: 0.3470 - mean_squared_error: 0.3470 - val_loss: 0.2999 - val_mean_squared_error: 0.2999 - 37ms/epoch - 4ms/step\n",
      "Epoch 57/200\n",
      "10/10 - 0s - loss: 0.3448 - mean_squared_error: 0.3448 - val_loss: 0.5267 - val_mean_squared_error: 0.5267 - 44ms/epoch - 4ms/step\n",
      "Epoch 58/200\n",
      "10/10 - 0s - loss: 0.3473 - mean_squared_error: 0.3473 - val_loss: 0.9719 - val_mean_squared_error: 0.9719 - 39ms/epoch - 4ms/step\n",
      "Epoch 59/200\n",
      "10/10 - 0s - loss: 0.3513 - mean_squared_error: 0.3513 - val_loss: 0.3614 - val_mean_squared_error: 0.3614 - 43ms/epoch - 4ms/step\n",
      "Epoch 60/200\n",
      "10/10 - 0s - loss: 0.3448 - mean_squared_error: 0.3448 - val_loss: 0.3312 - val_mean_squared_error: 0.3312 - 40ms/epoch - 4ms/step\n",
      "Epoch 61/200\n",
      "10/10 - 0s - loss: 0.3483 - mean_squared_error: 0.3483 - val_loss: 0.2869 - val_mean_squared_error: 0.2869 - 41ms/epoch - 4ms/step\n",
      "Epoch 62/200\n",
      "10/10 - 0s - loss: 0.3463 - mean_squared_error: 0.3463 - val_loss: 0.2269 - val_mean_squared_error: 0.2269 - 42ms/epoch - 4ms/step\n",
      "Epoch 63/200\n",
      "10/10 - 0s - loss: 0.3519 - mean_squared_error: 0.3519 - val_loss: 0.2383 - val_mean_squared_error: 0.2383 - 44ms/epoch - 4ms/step\n",
      "Epoch 64/200\n",
      "10/10 - 0s - loss: 0.3443 - mean_squared_error: 0.3443 - val_loss: 0.3526 - val_mean_squared_error: 0.3526 - 42ms/epoch - 4ms/step\n",
      "Epoch 65/200\n",
      "10/10 - 0s - loss: 0.3433 - mean_squared_error: 0.3433 - val_loss: 0.3039 - val_mean_squared_error: 0.3039 - 38ms/epoch - 4ms/step\n",
      "Epoch 66/200\n",
      "10/10 - 0s - loss: 0.3401 - mean_squared_error: 0.3401 - val_loss: 0.2260 - val_mean_squared_error: 0.2260 - 42ms/epoch - 4ms/step\n",
      "Epoch 67/200\n",
      "10/10 - 0s - loss: 0.3403 - mean_squared_error: 0.3403 - val_loss: 0.1748 - val_mean_squared_error: 0.1748 - 44ms/epoch - 4ms/step\n",
      "Epoch 68/200\n",
      "10/10 - 0s - loss: 0.3442 - mean_squared_error: 0.3442 - val_loss: 0.2868 - val_mean_squared_error: 0.2868 - 43ms/epoch - 4ms/step\n",
      "Epoch 69/200\n",
      "10/10 - 0s - loss: 0.3394 - mean_squared_error: 0.3394 - val_loss: 0.4066 - val_mean_squared_error: 0.4066 - 41ms/epoch - 4ms/step\n",
      "Epoch 70/200\n",
      "10/10 - 0s - loss: 0.3441 - mean_squared_error: 0.3441 - val_loss: 0.1264 - val_mean_squared_error: 0.1264 - 44ms/epoch - 4ms/step\n",
      "Epoch 71/200\n",
      "10/10 - 0s - loss: 0.3806 - mean_squared_error: 0.3806 - val_loss: 0.5186 - val_mean_squared_error: 0.5186 - 44ms/epoch - 4ms/step\n",
      "Epoch 72/200\n",
      "10/10 - 0s - loss: 0.4027 - mean_squared_error: 0.4027 - val_loss: 0.1377 - val_mean_squared_error: 0.1377 - 39ms/epoch - 4ms/step\n",
      "Epoch 73/200\n",
      "10/10 - 0s - loss: 0.3527 - mean_squared_error: 0.3527 - val_loss: 0.1541 - val_mean_squared_error: 0.1541 - 40ms/epoch - 4ms/step\n",
      "Epoch 74/200\n",
      "10/10 - 0s - loss: 0.3469 - mean_squared_error: 0.3469 - val_loss: 0.3906 - val_mean_squared_error: 0.3906 - 42ms/epoch - 4ms/step\n",
      "Epoch 75/200\n",
      "10/10 - 0s - loss: 0.3400 - mean_squared_error: 0.3400 - val_loss: 0.2623 - val_mean_squared_error: 0.2623 - 38ms/epoch - 4ms/step\n",
      "Epoch 76/200\n",
      "10/10 - 0s - loss: 0.3434 - mean_squared_error: 0.3434 - val_loss: 0.1016 - val_mean_squared_error: 0.1016 - 38ms/epoch - 4ms/step\n",
      "Epoch 77/200\n",
      "10/10 - 0s - loss: 0.3525 - mean_squared_error: 0.3525 - val_loss: 0.2580 - val_mean_squared_error: 0.2580 - 39ms/epoch - 4ms/step\n",
      "Epoch 78/200\n",
      "10/10 - 0s - loss: 0.3682 - mean_squared_error: 0.3682 - val_loss: 0.0149 - val_mean_squared_error: 0.0149 - 39ms/epoch - 4ms/step\n",
      "Epoch 79/200\n",
      "10/10 - 0s - loss: 0.3675 - mean_squared_error: 0.3675 - val_loss: 0.3323 - val_mean_squared_error: 0.3323 - 40ms/epoch - 4ms/step\n",
      "Epoch 80/200\n",
      "10/10 - 0s - loss: 0.3668 - mean_squared_error: 0.3668 - val_loss: 0.2535 - val_mean_squared_error: 0.2535 - 47ms/epoch - 5ms/step\n",
      "Epoch 81/200\n",
      "10/10 - 0s - loss: 0.3444 - mean_squared_error: 0.3444 - val_loss: 0.2705 - val_mean_squared_error: 0.2705 - 41ms/epoch - 4ms/step\n",
      "Epoch 82/200\n",
      "10/10 - 0s - loss: 0.3404 - mean_squared_error: 0.3404 - val_loss: 0.4179 - val_mean_squared_error: 0.4179 - 38ms/epoch - 4ms/step\n",
      "Epoch 83/200\n",
      "10/10 - 0s - loss: 0.3394 - mean_squared_error: 0.3394 - val_loss: 0.2180 - val_mean_squared_error: 0.2180 - 41ms/epoch - 4ms/step\n",
      "Epoch 84/200\n",
      "10/10 - 0s - loss: 0.3390 - mean_squared_error: 0.3390 - val_loss: 0.1137 - val_mean_squared_error: 0.1137 - 43ms/epoch - 4ms/step\n",
      "Epoch 85/200\n",
      "10/10 - 0s - loss: 0.3422 - mean_squared_error: 0.3422 - val_loss: 0.1806 - val_mean_squared_error: 0.1806 - 46ms/epoch - 5ms/step\n",
      "Epoch 86/200\n",
      "10/10 - 0s - loss: 0.3606 - mean_squared_error: 0.3606 - val_loss: 0.7398 - val_mean_squared_error: 0.7398 - 42ms/epoch - 4ms/step\n",
      "Epoch 87/200\n",
      "10/10 - 0s - loss: 0.3443 - mean_squared_error: 0.3443 - val_loss: 0.3914 - val_mean_squared_error: 0.3914 - 46ms/epoch - 5ms/step\n",
      "Epoch 88/200\n",
      "10/10 - 0s - loss: 0.3517 - mean_squared_error: 0.3517 - val_loss: 0.7616 - val_mean_squared_error: 0.7616 - 59ms/epoch - 6ms/step\n",
      "Epoch 89/200\n",
      "10/10 - 0s - loss: 0.3579 - mean_squared_error: 0.3579 - val_loss: 0.7813 - val_mean_squared_error: 0.7813 - 42ms/epoch - 4ms/step\n",
      "Epoch 90/200\n",
      "10/10 - 0s - loss: 0.3550 - mean_squared_error: 0.3550 - val_loss: 0.3095 - val_mean_squared_error: 0.3095 - 52ms/epoch - 5ms/step\n",
      "Epoch 91/200\n",
      "10/10 - 0s - loss: 0.3388 - mean_squared_error: 0.3388 - val_loss: 0.5014 - val_mean_squared_error: 0.5014 - 41ms/epoch - 4ms/step\n",
      "Epoch 92/200\n",
      "10/10 - 0s - loss: 0.3512 - mean_squared_error: 0.3512 - val_loss: 0.4172 - val_mean_squared_error: 0.4172 - 42ms/epoch - 4ms/step\n",
      "Epoch 93/200\n",
      "10/10 - 0s - loss: 0.3394 - mean_squared_error: 0.3394 - val_loss: 0.2719 - val_mean_squared_error: 0.2719 - 52ms/epoch - 5ms/step\n",
      "Epoch 94/200\n",
      "10/10 - 0s - loss: 0.3353 - mean_squared_error: 0.3353 - val_loss: 0.1985 - val_mean_squared_error: 0.1985 - 45ms/epoch - 5ms/step\n",
      "Epoch 95/200\n",
      "10/10 - 0s - loss: 0.3387 - mean_squared_error: 0.3387 - val_loss: 0.1875 - val_mean_squared_error: 0.1875 - 41ms/epoch - 4ms/step\n",
      "Epoch 96/200\n",
      "10/10 - 0s - loss: 0.3371 - mean_squared_error: 0.3371 - val_loss: 0.0725 - val_mean_squared_error: 0.0725 - 42ms/epoch - 4ms/step\n",
      "Epoch 97/200\n",
      "10/10 - 0s - loss: 0.3607 - mean_squared_error: 0.3607 - val_loss: 0.7395 - val_mean_squared_error: 0.7395 - 52ms/epoch - 5ms/step\n",
      "Epoch 98/200\n",
      "10/10 - 0s - loss: 0.4036 - mean_squared_error: 0.4036 - val_loss: 0.4066 - val_mean_squared_error: 0.4066 - 41ms/epoch - 4ms/step\n",
      "Epoch 99/200\n",
      "10/10 - 0s - loss: 0.3463 - mean_squared_error: 0.3463 - val_loss: 0.1884 - val_mean_squared_error: 0.1884 - 46ms/epoch - 5ms/step\n",
      "Epoch 100/200\n",
      "10/10 - 0s - loss: 0.3465 - mean_squared_error: 0.3465 - val_loss: 0.3705 - val_mean_squared_error: 0.3705 - 50ms/epoch - 5ms/step\n",
      "Epoch 101/200\n",
      "10/10 - 0s - loss: 0.3445 - mean_squared_error: 0.3445 - val_loss: 0.3031 - val_mean_squared_error: 0.3031 - 42ms/epoch - 4ms/step\n",
      "Epoch 102/200\n",
      "10/10 - 0s - loss: 0.3470 - mean_squared_error: 0.3470 - val_loss: 0.2633 - val_mean_squared_error: 0.2633 - 42ms/epoch - 4ms/step\n",
      "Epoch 103/200\n",
      "10/10 - 0s - loss: 0.3411 - mean_squared_error: 0.3411 - val_loss: 0.5940 - val_mean_squared_error: 0.5940 - 43ms/epoch - 4ms/step\n",
      "Epoch 104/200\n",
      "10/10 - 0s - loss: 0.3479 - mean_squared_error: 0.3479 - val_loss: 0.2633 - val_mean_squared_error: 0.2633 - 41ms/epoch - 4ms/step\n",
      "Epoch 105/200\n",
      "10/10 - 0s - loss: 0.3390 - mean_squared_error: 0.3390 - val_loss: 0.3080 - val_mean_squared_error: 0.3080 - 43ms/epoch - 4ms/step\n",
      "Epoch 106/200\n",
      "10/10 - 0s - loss: 0.3378 - mean_squared_error: 0.3378 - val_loss: 0.2461 - val_mean_squared_error: 0.2461 - 44ms/epoch - 4ms/step\n",
      "Epoch 107/200\n",
      "10/10 - 0s - loss: 0.3343 - mean_squared_error: 0.3343 - val_loss: 0.2470 - val_mean_squared_error: 0.2470 - 47ms/epoch - 5ms/step\n",
      "Epoch 108/200\n",
      "10/10 - 0s - loss: 0.3353 - mean_squared_error: 0.3353 - val_loss: 0.2580 - val_mean_squared_error: 0.2580 - 42ms/epoch - 4ms/step\n",
      "Epoch 109/200\n",
      "10/10 - 0s - loss: 0.3341 - mean_squared_error: 0.3341 - val_loss: 0.1704 - val_mean_squared_error: 0.1704 - 49ms/epoch - 5ms/step\n",
      "Epoch 110/200\n",
      "10/10 - 0s - loss: 0.3323 - mean_squared_error: 0.3323 - val_loss: 0.1385 - val_mean_squared_error: 0.1385 - 39ms/epoch - 4ms/step\n",
      "Epoch 111/200\n",
      "10/10 - 0s - loss: 0.3436 - mean_squared_error: 0.3436 - val_loss: 0.2424 - val_mean_squared_error: 0.2424 - 39ms/epoch - 4ms/step\n",
      "Epoch 112/200\n",
      "10/10 - 0s - loss: 0.3351 - mean_squared_error: 0.3351 - val_loss: 0.1462 - val_mean_squared_error: 0.1462 - 40ms/epoch - 4ms/step\n",
      "Epoch 113/200\n",
      "10/10 - 0s - loss: 0.3330 - mean_squared_error: 0.3330 - val_loss: 0.2337 - val_mean_squared_error: 0.2337 - 44ms/epoch - 4ms/step\n",
      "Epoch 114/200\n",
      "10/10 - 0s - loss: 0.3400 - mean_squared_error: 0.3400 - val_loss: 0.1816 - val_mean_squared_error: 0.1816 - 42ms/epoch - 4ms/step\n",
      "Epoch 115/200\n",
      "10/10 - 0s - loss: 0.3343 - mean_squared_error: 0.3343 - val_loss: 0.0707 - val_mean_squared_error: 0.0707 - 41ms/epoch - 4ms/step\n",
      "Epoch 116/200\n",
      "10/10 - 0s - loss: 0.3332 - mean_squared_error: 0.3332 - val_loss: 0.2377 - val_mean_squared_error: 0.2377 - 44ms/epoch - 4ms/step\n",
      "Epoch 117/200\n",
      "10/10 - 0s - loss: 0.3375 - mean_squared_error: 0.3375 - val_loss: 0.1059 - val_mean_squared_error: 0.1059 - 40ms/epoch - 4ms/step\n",
      "Epoch 118/200\n",
      "10/10 - 0s - loss: 0.3349 - mean_squared_error: 0.3349 - val_loss: 0.2213 - val_mean_squared_error: 0.2213 - 40ms/epoch - 4ms/step\n",
      "Epoch 119/200\n",
      "10/10 - 0s - loss: 0.3337 - mean_squared_error: 0.3337 - val_loss: 0.2280 - val_mean_squared_error: 0.2280 - 40ms/epoch - 4ms/step\n",
      "Epoch 120/200\n",
      "10/10 - 0s - loss: 0.3358 - mean_squared_error: 0.3358 - val_loss: 0.1329 - val_mean_squared_error: 0.1329 - 48ms/epoch - 5ms/step\n",
      "Epoch 121/200\n",
      "10/10 - 0s - loss: 0.3328 - mean_squared_error: 0.3328 - val_loss: 0.2321 - val_mean_squared_error: 0.2321 - 41ms/epoch - 4ms/step\n",
      "Epoch 122/200\n",
      "10/10 - 0s - loss: 0.3342 - mean_squared_error: 0.3342 - val_loss: 0.1295 - val_mean_squared_error: 0.1295 - 40ms/epoch - 4ms/step\n",
      "Epoch 123/200\n",
      "10/10 - 0s - loss: 0.3315 - mean_squared_error: 0.3315 - val_loss: 0.1104 - val_mean_squared_error: 0.1104 - 44ms/epoch - 4ms/step\n",
      "Epoch 124/200\n",
      "10/10 - 0s - loss: 0.3326 - mean_squared_error: 0.3326 - val_loss: 0.1882 - val_mean_squared_error: 0.1882 - 42ms/epoch - 4ms/step\n",
      "Epoch 125/200\n",
      "10/10 - 0s - loss: 0.3700 - mean_squared_error: 0.3700 - val_loss: 0.5738 - val_mean_squared_error: 0.5738 - 67ms/epoch - 7ms/step\n",
      "Epoch 126/200\n",
      "10/10 - 0s - loss: 0.3650 - mean_squared_error: 0.3650 - val_loss: 0.5600 - val_mean_squared_error: 0.5600 - 44ms/epoch - 4ms/step\n",
      "Epoch 127/200\n",
      "10/10 - 0s - loss: 0.3718 - mean_squared_error: 0.3718 - val_loss: 0.2844 - val_mean_squared_error: 0.2844 - 47ms/epoch - 5ms/step\n",
      "Epoch 128/200\n",
      "10/10 - 0s - loss: 0.3425 - mean_squared_error: 0.3425 - val_loss: 0.6812 - val_mean_squared_error: 0.6812 - 46ms/epoch - 5ms/step\n",
      "Epoch 129/200\n",
      "10/10 - 0s - loss: 0.3557 - mean_squared_error: 0.3557 - val_loss: 0.4220 - val_mean_squared_error: 0.4220 - 43ms/epoch - 4ms/step\n",
      "Epoch 130/200\n",
      "10/10 - 0s - loss: 0.3684 - mean_squared_error: 0.3684 - val_loss: 0.6952 - val_mean_squared_error: 0.6952 - 47ms/epoch - 5ms/step\n",
      "Epoch 131/200\n",
      "10/10 - 0s - loss: 0.3440 - mean_squared_error: 0.3440 - val_loss: 0.5818 - val_mean_squared_error: 0.5818 - 41ms/epoch - 4ms/step\n",
      "Epoch 132/200\n",
      "10/10 - 0s - loss: 0.3564 - mean_squared_error: 0.3564 - val_loss: 0.7568 - val_mean_squared_error: 0.7568 - 45ms/epoch - 5ms/step\n",
      "Epoch 133/200\n",
      "10/10 - 0s - loss: 0.3692 - mean_squared_error: 0.3692 - val_loss: 1.4088 - val_mean_squared_error: 1.4088 - 42ms/epoch - 4ms/step\n",
      "Epoch 134/200\n",
      "10/10 - 0s - loss: 0.4180 - mean_squared_error: 0.4180 - val_loss: 0.6000 - val_mean_squared_error: 0.6000 - 54ms/epoch - 5ms/step\n",
      "Epoch 135/200\n",
      "10/10 - 0s - loss: 0.3529 - mean_squared_error: 0.3529 - val_loss: 0.3199 - val_mean_squared_error: 0.3199 - 42ms/epoch - 4ms/step\n",
      "Epoch 136/200\n",
      "10/10 - 0s - loss: 0.3780 - mean_squared_error: 0.3780 - val_loss: 1.9140 - val_mean_squared_error: 1.9140 - 41ms/epoch - 4ms/step\n",
      "Epoch 137/200\n",
      "10/10 - 0s - loss: 0.4183 - mean_squared_error: 0.4183 - val_loss: 0.2511 - val_mean_squared_error: 0.2511 - 58ms/epoch - 6ms/step\n",
      "Epoch 138/200\n",
      "10/10 - 0s - loss: 0.3636 - mean_squared_error: 0.3636 - val_loss: 0.2784 - val_mean_squared_error: 0.2784 - 46ms/epoch - 5ms/step\n",
      "Epoch 139/200\n",
      "10/10 - 0s - loss: 0.3501 - mean_squared_error: 0.3501 - val_loss: 0.4879 - val_mean_squared_error: 0.4879 - 38ms/epoch - 4ms/step\n",
      "Epoch 140/200\n",
      "10/10 - 0s - loss: 0.3474 - mean_squared_error: 0.3474 - val_loss: 0.2637 - val_mean_squared_error: 0.2637 - 40ms/epoch - 4ms/step\n",
      "Epoch 141/200\n",
      "10/10 - 0s - loss: 0.3576 - mean_squared_error: 0.3576 - val_loss: 0.4918 - val_mean_squared_error: 0.4918 - 39ms/epoch - 4ms/step\n",
      "Epoch 142/200\n",
      "10/10 - 0s - loss: 0.3610 - mean_squared_error: 0.3610 - val_loss: 0.2259 - val_mean_squared_error: 0.2259 - 51ms/epoch - 5ms/step\n",
      "Epoch 143/200\n",
      "10/10 - 0s - loss: 0.3527 - mean_squared_error: 0.3527 - val_loss: 0.2907 - val_mean_squared_error: 0.2907 - 39ms/epoch - 4ms/step\n",
      "Epoch 144/200\n",
      "10/10 - 0s - loss: 0.3628 - mean_squared_error: 0.3628 - val_loss: 0.2326 - val_mean_squared_error: 0.2326 - 42ms/epoch - 4ms/step\n",
      "Epoch 145/200\n",
      "10/10 - 0s - loss: 0.3565 - mean_squared_error: 0.3565 - val_loss: 0.1963 - val_mean_squared_error: 0.1963 - 48ms/epoch - 5ms/step\n",
      "Epoch 146/200\n",
      "10/10 - 0s - loss: 0.3412 - mean_squared_error: 0.3412 - val_loss: 0.2814 - val_mean_squared_error: 0.2814 - 41ms/epoch - 4ms/step\n",
      "Epoch 147/200\n",
      "10/10 - 0s - loss: 0.3387 - mean_squared_error: 0.3387 - val_loss: 0.2384 - val_mean_squared_error: 0.2384 - 42ms/epoch - 4ms/step\n",
      "Epoch 148/200\n",
      "10/10 - 0s - loss: 0.3380 - mean_squared_error: 0.3380 - val_loss: 0.4268 - val_mean_squared_error: 0.4268 - 41ms/epoch - 4ms/step\n",
      "Epoch 149/200\n",
      "10/10 - 0s - loss: 0.3367 - mean_squared_error: 0.3367 - val_loss: 0.1528 - val_mean_squared_error: 0.1528 - 53ms/epoch - 5ms/step\n",
      "Epoch 150/200\n",
      "10/10 - 0s - loss: 0.3343 - mean_squared_error: 0.3343 - val_loss: 0.3025 - val_mean_squared_error: 0.3025 - 58ms/epoch - 6ms/step\n",
      "Epoch 151/200\n",
      "10/10 - 0s - loss: 0.3470 - mean_squared_error: 0.3470 - val_loss: 0.0626 - val_mean_squared_error: 0.0626 - 41ms/epoch - 4ms/step\n",
      "Epoch 152/200\n",
      "10/10 - 0s - loss: 0.3656 - mean_squared_error: 0.3656 - val_loss: 0.2360 - val_mean_squared_error: 0.2360 - 41ms/epoch - 4ms/step\n",
      "Epoch 153/200\n",
      "10/10 - 0s - loss: 0.3534 - mean_squared_error: 0.3534 - val_loss: 0.1961 - val_mean_squared_error: 0.1961 - 47ms/epoch - 5ms/step\n",
      "Epoch 154/200\n",
      "10/10 - 0s - loss: 0.3501 - mean_squared_error: 0.3501 - val_loss: 0.8414 - val_mean_squared_error: 0.8414 - 43ms/epoch - 4ms/step\n",
      "Epoch 155/200\n",
      "10/10 - 0s - loss: 0.3480 - mean_squared_error: 0.3480 - val_loss: 0.2526 - val_mean_squared_error: 0.2526 - 41ms/epoch - 4ms/step\n",
      "Epoch 156/200\n",
      "10/10 - 0s - loss: 0.3376 - mean_squared_error: 0.3376 - val_loss: 0.3723 - val_mean_squared_error: 0.3723 - 41ms/epoch - 4ms/step\n",
      "Epoch 157/200\n",
      "10/10 - 0s - loss: 0.3470 - mean_squared_error: 0.3470 - val_loss: 0.8053 - val_mean_squared_error: 0.8053 - 48ms/epoch - 5ms/step\n",
      "Epoch 158/200\n",
      "10/10 - 0s - loss: 0.3560 - mean_squared_error: 0.3560 - val_loss: 0.6660 - val_mean_squared_error: 0.6660 - 60ms/epoch - 6ms/step\n",
      "Epoch 159/200\n",
      "10/10 - 0s - loss: 0.3632 - mean_squared_error: 0.3632 - val_loss: 0.3640 - val_mean_squared_error: 0.3640 - 38ms/epoch - 4ms/step\n",
      "Epoch 160/200\n",
      "10/10 - 0s - loss: 0.3588 - mean_squared_error: 0.3588 - val_loss: 0.0417 - val_mean_squared_error: 0.0417 - 48ms/epoch - 5ms/step\n",
      "Epoch 161/200\n",
      "10/10 - 0s - loss: 0.3981 - mean_squared_error: 0.3981 - val_loss: 0.3596 - val_mean_squared_error: 0.3596 - 43ms/epoch - 4ms/step\n",
      "Epoch 162/200\n",
      "10/10 - 0s - loss: 0.3528 - mean_squared_error: 0.3528 - val_loss: 0.0612 - val_mean_squared_error: 0.0612 - 36ms/epoch - 4ms/step\n",
      "Epoch 163/200\n",
      "10/10 - 0s - loss: 0.3645 - mean_squared_error: 0.3645 - val_loss: 0.4604 - val_mean_squared_error: 0.4604 - 38ms/epoch - 4ms/step\n",
      "Epoch 164/200\n",
      "10/10 - 0s - loss: 0.3625 - mean_squared_error: 0.3625 - val_loss: 0.1832 - val_mean_squared_error: 0.1832 - 45ms/epoch - 4ms/step\n",
      "Epoch 165/200\n",
      "10/10 - 0s - loss: 0.3445 - mean_squared_error: 0.3445 - val_loss: 0.3998 - val_mean_squared_error: 0.3998 - 43ms/epoch - 4ms/step\n",
      "Epoch 166/200\n",
      "10/10 - 0s - loss: 0.3661 - mean_squared_error: 0.3661 - val_loss: 0.5597 - val_mean_squared_error: 0.5597 - 40ms/epoch - 4ms/step\n",
      "Epoch 167/200\n",
      "10/10 - 0s - loss: 0.3507 - mean_squared_error: 0.3507 - val_loss: 0.3543 - val_mean_squared_error: 0.3543 - 55ms/epoch - 6ms/step\n",
      "Epoch 168/200\n",
      "10/10 - 0s - loss: 0.3407 - mean_squared_error: 0.3407 - val_loss: 0.3385 - val_mean_squared_error: 0.3385 - 37ms/epoch - 4ms/step\n",
      "Epoch 169/200\n",
      "10/10 - 0s - loss: 0.3386 - mean_squared_error: 0.3386 - val_loss: 0.4187 - val_mean_squared_error: 0.4187 - 41ms/epoch - 4ms/step\n",
      "Epoch 170/200\n",
      "10/10 - 0s - loss: 0.3368 - mean_squared_error: 0.3368 - val_loss: 0.2328 - val_mean_squared_error: 0.2328 - 50ms/epoch - 5ms/step\n",
      "Epoch 171/200\n",
      "10/10 - 0s - loss: 0.3336 - mean_squared_error: 0.3336 - val_loss: 0.1983 - val_mean_squared_error: 0.1983 - 47ms/epoch - 5ms/step\n",
      "Epoch 172/200\n",
      "10/10 - 0s - loss: 0.3334 - mean_squared_error: 0.3334 - val_loss: 0.0743 - val_mean_squared_error: 0.0743 - 43ms/epoch - 4ms/step\n",
      "Epoch 173/200\n",
      "10/10 - 0s - loss: 0.3347 - mean_squared_error: 0.3347 - val_loss: 0.1849 - val_mean_squared_error: 0.1849 - 38ms/epoch - 4ms/step\n",
      "Epoch 174/200\n",
      "10/10 - 0s - loss: 0.3328 - mean_squared_error: 0.3328 - val_loss: 0.1401 - val_mean_squared_error: 0.1401 - 40ms/epoch - 4ms/step\n",
      "Epoch 175/200\n",
      "10/10 - 0s - loss: 0.3345 - mean_squared_error: 0.3345 - val_loss: 0.2086 - val_mean_squared_error: 0.2086 - 45ms/epoch - 4ms/step\n",
      "Epoch 176/200\n",
      "10/10 - 0s - loss: 0.3338 - mean_squared_error: 0.3338 - val_loss: 0.1905 - val_mean_squared_error: 0.1905 - 47ms/epoch - 5ms/step\n",
      "Epoch 177/200\n",
      "10/10 - 0s - loss: 0.3331 - mean_squared_error: 0.3331 - val_loss: 0.1688 - val_mean_squared_error: 0.1688 - 40ms/epoch - 4ms/step\n",
      "Epoch 178/200\n",
      "10/10 - 0s - loss: 0.3327 - mean_squared_error: 0.3327 - val_loss: 0.1281 - val_mean_squared_error: 0.1281 - 40ms/epoch - 4ms/step\n",
      "Epoch 179/200\n",
      "10/10 - 0s - loss: 0.3421 - mean_squared_error: 0.3421 - val_loss: 0.4657 - val_mean_squared_error: 0.4657 - 40ms/epoch - 4ms/step\n",
      "Epoch 180/200\n",
      "10/10 - 0s - loss: 0.3456 - mean_squared_error: 0.3456 - val_loss: 0.1939 - val_mean_squared_error: 0.1939 - 41ms/epoch - 4ms/step\n",
      "Epoch 181/200\n",
      "10/10 - 0s - loss: 0.3389 - mean_squared_error: 0.3389 - val_loss: 0.2123 - val_mean_squared_error: 0.2123 - 44ms/epoch - 4ms/step\n",
      "Epoch 182/200\n",
      "10/10 - 0s - loss: 0.3377 - mean_squared_error: 0.3377 - val_loss: 0.3789 - val_mean_squared_error: 0.3789 - 38ms/epoch - 4ms/step\n",
      "Epoch 183/200\n",
      "10/10 - 0s - loss: 0.3411 - mean_squared_error: 0.3411 - val_loss: 0.2248 - val_mean_squared_error: 0.2248 - 41ms/epoch - 4ms/step\n",
      "Epoch 184/200\n",
      "10/10 - 0s - loss: 0.3352 - mean_squared_error: 0.3352 - val_loss: 0.1129 - val_mean_squared_error: 0.1129 - 38ms/epoch - 4ms/step\n",
      "Epoch 185/200\n",
      "10/10 - 0s - loss: 0.3327 - mean_squared_error: 0.3327 - val_loss: 0.1557 - val_mean_squared_error: 0.1557 - 60ms/epoch - 6ms/step\n",
      "Epoch 186/200\n",
      "10/10 - 0s - loss: 0.3324 - mean_squared_error: 0.3324 - val_loss: 0.1050 - val_mean_squared_error: 0.1050 - 39ms/epoch - 4ms/step\n",
      "Epoch 187/200\n",
      "10/10 - 0s - loss: 0.3317 - mean_squared_error: 0.3317 - val_loss: 0.1532 - val_mean_squared_error: 0.1532 - 40ms/epoch - 4ms/step\n",
      "Epoch 188/200\n",
      "10/10 - 0s - loss: 0.3324 - mean_squared_error: 0.3324 - val_loss: 0.1056 - val_mean_squared_error: 0.1056 - 52ms/epoch - 5ms/step\n",
      "Epoch 189/200\n",
      "10/10 - 0s - loss: 0.3336 - mean_squared_error: 0.3336 - val_loss: 0.1327 - val_mean_squared_error: 0.1327 - 44ms/epoch - 4ms/step\n",
      "Epoch 190/200\n",
      "10/10 - 0s - loss: 0.3333 - mean_squared_error: 0.3333 - val_loss: 0.2286 - val_mean_squared_error: 0.2286 - 42ms/epoch - 4ms/step\n",
      "Epoch 191/200\n",
      "10/10 - 0s - loss: 0.3478 - mean_squared_error: 0.3478 - val_loss: 0.5243 - val_mean_squared_error: 0.5243 - 40ms/epoch - 4ms/step\n",
      "Epoch 192/200\n",
      "10/10 - 0s - loss: 0.3851 - mean_squared_error: 0.3851 - val_loss: 0.1895 - val_mean_squared_error: 0.1895 - 45ms/epoch - 4ms/step\n",
      "Epoch 193/200\n",
      "10/10 - 0s - loss: 0.3698 - mean_squared_error: 0.3698 - val_loss: 0.1518 - val_mean_squared_error: 0.1518 - 42ms/epoch - 4ms/step\n",
      "Epoch 194/200\n",
      "10/10 - 0s - loss: 0.3743 - mean_squared_error: 0.3743 - val_loss: 0.1331 - val_mean_squared_error: 0.1331 - 38ms/epoch - 4ms/step\n",
      "Epoch 195/200\n",
      "10/10 - 0s - loss: 0.3519 - mean_squared_error: 0.3519 - val_loss: 0.1190 - val_mean_squared_error: 0.1190 - 38ms/epoch - 4ms/step\n",
      "Epoch 196/200\n",
      "10/10 - 0s - loss: 0.3477 - mean_squared_error: 0.3477 - val_loss: 0.6962 - val_mean_squared_error: 0.6962 - 47ms/epoch - 5ms/step\n",
      "Epoch 197/200\n",
      "10/10 - 0s - loss: 0.3488 - mean_squared_error: 0.3488 - val_loss: 0.4372 - val_mean_squared_error: 0.4372 - 44ms/epoch - 4ms/step\n",
      "Epoch 198/200\n",
      "10/10 - 0s - loss: 0.3386 - mean_squared_error: 0.3386 - val_loss: 0.4031 - val_mean_squared_error: 0.4031 - 37ms/epoch - 4ms/step\n",
      "Epoch 199/200\n",
      "10/10 - 0s - loss: 0.3450 - mean_squared_error: 0.3450 - val_loss: 0.2925 - val_mean_squared_error: 0.2925 - 41ms/epoch - 4ms/step\n",
      "Epoch 200/200\n",
      "10/10 - 0s - loss: 0.3432 - mean_squared_error: 0.3432 - val_loss: 0.2481 - val_mean_squared_error: 0.2481 - 43ms/epoch - 4ms/step\n",
      "Duración del entrenamiento    10.4628s\n"
     ]
    }
   ],
   "source": [
    "\n",
    "# Número de épocas para el entrenamiento\n",
    "epochs = 200\n",
    "\n",
    "\"\"\"\n",
    "Con el método .time() de la paquetería time se genera un reloj interno que devuelve el tiempo de ejecución en que un \n",
    "código es ejecutado por la computador\n",
    "\"\"\"\n",
    "start_time = time.time()\n",
    "\n",
    "\"\"\"\n",
    "Se indica el porcentaje de muestras en float para el conjunto de validación, en este caso 5% ~ 0.05, por lo que para \n",
    "el conjunto de entrenamiento sería el 95% ~ 0.95 \n",
    "\"\"\"\n",
    "val_split = 0.05\n",
    "\n",
    "\"\"\"\n",
    "Con el método .fit se entrena al modelo model_keras, con el parámetro batch_size se especifica el número de muestras por\n",
    "lote y así que el entrenamiento sea más óptimo\n",
    "\"\"\"\n",
    "history_model = model_keras.fit(train_x, train_y,\n",
    "                          epochs = epochs,\n",
    "                          batch_size = 17,\n",
    "                          validation_split = val_split, \n",
    "                          shuffle= True,\n",
    "                          verbose = 2)\n",
    "\n",
    "end_time = time.time()\n",
    "\n",
    "print(\"Duración del entrenamiento {:10.4f}s\".format(end_time - start_time))\n"
   ]
  },
  {
   "cell_type": "code",
   "execution_count": 733,
   "metadata": {
    "colab": {
     "base_uri": "https://localhost:8080/",
     "height": 287
    },
    "id": "BqHrsPj8Fg2D",
    "outputId": "97775ef0-3b09-4c76-f279-06fb81bdfdd4"
   },
   "outputs": [
    {
     "data": {
      "image/png": "[encoded data removed]",
      "text/plain": [
       "<Figure size 432x288 with 1 Axes>"
      ]
     },
     "metadata": {
      "needs_background": "light"
     },
     "output_type": "display_data"
    }
   ],
   "source": [
    "\n",
    "plt.plot(history_model.history['loss'], 'red')\n",
    "plt.plot(history_model.history['val_loss'], 'blue')\n",
    "plt.ylabel('Costos', size=16)\n",
    "plt.xlabel('Épocas', size=16)\n",
    "plt.legend(['Entrenamiento', 'Validación'], loc='upper right');\n"
   ]
  },
  {
   "cell_type": "code",
   "execution_count": 739,
   "metadata": {
    "colab": {
     "base_uri": "https://localhost:8080/"
    },
    "id": "owuFSSqLFpf1",
    "outputId": "483c630d-0a6d-41d9-e9e3-907cb4440d15"
   },
   "outputs": [
    {
     "name": "stdout",
     "output_type": "stream",
     "text": [
      "3/3 [==============================] - 0s 5ms/step - loss: 0.3511 - mean_squared_error: 0.2611\n",
      "Test loss: 0.3510544300079346\n"
     ]
    }
   ],
   "source": [
    "\n",
    "scores = model_keras.evaluate(test_x, test_y)\n",
    "print('Test loss:', scores[0])\n"
   ]
  },
  {
   "cell_type": "code",
   "execution_count": 735,
   "metadata": {
    "colab": {
     "base_uri": "https://localhost:8080/"
    },
    "id": "jqaEMDSFFvPb",
    "outputId": "8b1d8426-606f-4244-89ab-79ef2451445e"
   },
   "outputs": [
    {
     "name": "stdout",
     "output_type": "stream",
     "text": [
      "3/3 [==============================] - 0s 3ms/step\n",
      "79\n"
     ]
    }
   ],
   "source": [
    "\n",
    "# 5\n",
    "predictions = model_keras.predict(test_x)\n",
    "print(len(predictions))\n"
   ]
  },
  {
   "cell_type": "code",
   "execution_count": 742,
   "metadata": {
    "colab": {
     "base_uri": "https://localhost:8080/"
    },
    "id": "hmViZrr2F2eg",
    "outputId": "81a9cffb-9564-4912-a940-a64696e05b33"
   },
   "outputs": [
    {
     "name": "stdout",
     "output_type": "stream",
     "text": [
      "Año    2022.982730\n",
      "Pob     133.477284\n",
      "dtype: float64\n"
     ]
    }
   ],
   "source": [
    "\n",
    "# Se revierte la nomralización y se realizan algunas predicciones:\n",
    "(predictions[0] * df_train.std()) + df_train.mean()   # Año 2022\n"
   ]
  },
  {
   "cell_type": "code",
   "execution_count": 747,
   "metadata": {
    "colab": {
     "base_uri": "https://localhost:8080/"
    },
    "id": "Vd28tpIXNjkh",
    "outputId": "7b4aa6c1-978b-4253-f106-41a995a7e984"
   },
   "outputs": [
    {
     "name": "stdout",
     "output_type": "stream",
     "text": [
      "Año    2055.000109\n",
      "Pob     152.927630\n",
      "dtype: float64\n"
     ]
    }
   ],
   "source": [
    "\n",
    "# Año 2050\n",
    "(predictions[28] * df_train.std()) + df_train.mean()\n"
   ]
  },
  {
   "cell_type": "code",
   "execution_count": 746,
   "metadata": {
    "colab": {
     "base_uri": "https://localhost:8080/"
    },
    "id": "B2EAiWRCO5Mx",
    "outputId": "7f3e22d5-9991-4481-e164-23fd7dee2e36"
   },
   "outputs": [
    {
     "name": "stdout",
     "output_type": "stream",
     "text": [
      "Año    2113.820014\n",
      "Pob     147.196035\n",
      "dtype: float64\n"
     ]
    }
   ],
   "source": [
    "\n",
    "# Año 2100\n",
    "(predictions[78] * df_train.std()) + df_train.mean()\n"
   ]
  },
  {
   "cell_type": "code",
   "execution_count": 755,
   "metadata": {
    "colab": {
     "base_uri": "https://localhost:8080/",
     "height": 284
    },
    "id": "aBx_8h-HGByZ",
    "outputId": "5932b223-f4c5-468b-db15-9502e493b3c6"
   },
   "outputs": [
    {
     "data": {
      "image/png": "[encoded data removed]",
      "text/plain": [
       "<Figure size 432x288 with 1 Axes>"
      ]
     },
     "metadata": {
      "needs_background": "light"
     },
     "output_type": "display_data"
    }
   ],
   "source": [
    "\n",
    "# Comparando con las proyecciones hechas por el Banco Mundial:\n",
    "\n",
    "plt.xlabel('Año', size = 16)\n",
    "plt.ylabel('Población', size = 16)\n",
    "listOf_Xticks = np.arange(1821, 2100, 23)\n",
    "plt.xticks(listOf_Xticks)\n",
    "plt.scatter(df['Año'], df['Pob'], color = 'red')\n",
    "plt.show()\n",
    "# plt.scatter(df['Año'], model_keras.predict(df['Año']))"
   ]
  },
  {
   "cell_type": "code",
   "execution_count": 762,
   "metadata": {
    "colab": {
     "base_uri": "https://localhost:8080/"
    },
    "id": "sbZf-3QgUug1",
    "outputId": "0ecf4c8a-e936-4b0d-b023-ce92268f9412"
   },
   "outputs": [
    {
     "name": "stdout",
     "output_type": "stream",
     "text": [
      "[2022.        131.753424]\n"
     ]
    }
   ],
   "source": [
    "print(df.values[166])"
   ]
  },
  {
   "cell_type": "code",
   "execution_count": 763,
   "metadata": {
    "colab": {
     "base_uri": "https://localhost:8080/"
    },
    "id": "ypoBQIDTVGiu",
    "outputId": "b7b1043b-6411-40d1-a60e-a632e4db2876"
   },
   "outputs": [
    {
     "name": "stdout",
     "output_type": "stream",
     "text": [
      "[2050.        155.166262]\n"
     ]
    }
   ],
   "source": [
    "print(df.values[194])"
   ]
  },
  {
   "cell_type": "code",
   "execution_count": 764,
   "metadata": {
    "colab": {
     "base_uri": "https://localhost:8080/"
    },
    "id": "LS_BDQlwWAo1",
    "outputId": "c55b3e78-be68-4b4a-da33-efd23402d389"
   },
   "outputs": [
    {
     "name": "stdout",
     "output_type": "stream",
     "text": [
      "[2100.        141.509942]\n"
     ]
    }
   ],
   "source": [
    "print(df.values[244])"
   ]
  }
 ],
 "metadata": {
  "colab": {
   "provenance": []
  },
  "kernelspec": {
   "display_name": "Python 3 (ipykernel)",
   "language": "python",
   "name": "python3"
  },
  "language_info": {
   "codemirror_mode": {
    "name": "ipython",
    "version": 3
   },
   "file_extension": ".py",
   "mimetype": "text/x-python",
   "name": "python",
   "nbconvert_exporter": "python",
   "pygments_lexer": "ipython3",
   "version": "3.9.10"
  }
 },
 "nbformat": 4,
 "nbformat_minor": 1
}
